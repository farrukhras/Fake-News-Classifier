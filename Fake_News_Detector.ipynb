{
  "nbformat": 4,
  "nbformat_minor": 0,
  "metadata": {
    "colab": {
      "name": "Fake News Detector.ipynb",
      "provenance": [],
      "collapsed_sections": [],
      "toc_visible": true
    },
    "kernelspec": {
      "name": "python3",
      "display_name": "Python 3"
    },
    "accelerator": "GPU"
  },
  "cells": [
    {
      "cell_type": "code",
      "metadata": {
        "id": "xFBqS5ZrDK3z",
        "colab_type": "code",
        "colab": {
          "base_uri": "https://localhost:8080/",
          "height": 54
        },
        "outputId": "89afc6ca-f97b-4a79-b8fe-c1aaed5b8ab6"
      },
      "source": [
        "from google.colab import drive\n",
        "drive.mount('/content/drive')"
      ],
      "execution_count": 153,
      "outputs": [
        {
          "output_type": "stream",
          "text": [
            "Drive already mounted at /content/drive; to attempt to forcibly remount, call drive.mount(\"/content/drive\", force_remount=True).\n"
          ],
          "name": "stdout"
        }
      ]
    },
    {
      "cell_type": "code",
      "metadata": {
        "id": "tN4sXyonvMqf",
        "colab_type": "code",
        "colab": {}
      },
      "source": [
        "# import the necessary libraries\n",
        "\n",
        "import numpy as np\n",
        "import pandas as pd\n",
        "import os\n",
        "\n",
        "from fastai.text import *\n",
        "from pathlib import Path"
      ],
      "execution_count": 154,
      "outputs": []
    },
    {
      "cell_type": "code",
      "metadata": {
        "id": "A6ETuqRDmy7R",
        "colab_type": "code",
        "colab": {
          "base_uri": "https://localhost:8080/",
          "height": 153
        },
        "outputId": "afa78300-5a3a-43de-b759-f6d689579c68"
      },
      "source": [
        "# print the paths of all the files in the directory\n",
        "\n",
        "for dirname, _, filenames in os.walk('/content/drive/My Drive/Colab Notebooks/Fake News Detection'):\n",
        "    for name in filenames:\n",
        "        print(os.path.join(dirname, name))"
      ],
      "execution_count": 155,
      "outputs": [
        {
          "output_type": "stream",
          "text": [
            "/content/drive/My Drive/Colab Notebooks/Fake News Detection/Fake.csv\n",
            "/content/drive/My Drive/Colab Notebooks/Fake News Detection/export.pkl\n",
            "/content/drive/My Drive/Colab Notebooks/Fake News Detection/original.csv\n",
            "/content/drive/My Drive/Colab Notebooks/Fake News Detection/Fake News Detector.ipynb\n",
            "/content/drive/My Drive/Colab Notebooks/Fake News Detection/True.csv\n",
            "/content/drive/My Drive/Colab Notebooks/Fake News Detection/models/stage-1.pth\n",
            "/content/drive/My Drive/Colab Notebooks/Fake News Detection/models/tmp.pth\n",
            "/content/drive/My Drive/Colab Notebooks/Fake News Detection/models/stage-2.pth\n"
          ],
          "name": "stdout"
        }
      ]
    },
    {
      "cell_type": "code",
      "metadata": {
        "id": "I-QZZkpSvekU",
        "colab_type": "code",
        "colab": {
          "base_uri": "https://localhost:8080/",
          "height": 136
        },
        "outputId": "f2317ad4-bd3a-48e5-88e5-a539cdd1ba1e"
      },
      "source": [
        "path = Path(\"/content/drive/My Drive/Colab Notebooks/Fake News Detection\")\n",
        "path.ls()"
      ],
      "execution_count": 156,
      "outputs": [
        {
          "output_type": "execute_result",
          "data": {
            "text/plain": [
              "[PosixPath('/content/drive/My Drive/Colab Notebooks/Fake News Detection/Fake.csv'),\n",
              " PosixPath('/content/drive/My Drive/Colab Notebooks/Fake News Detection/models'),\n",
              " PosixPath('/content/drive/My Drive/Colab Notebooks/Fake News Detection/export.pkl'),\n",
              " PosixPath('/content/drive/My Drive/Colab Notebooks/Fake News Detection/.ipynb_checkpoints'),\n",
              " PosixPath('/content/drive/My Drive/Colab Notebooks/Fake News Detection/original.csv'),\n",
              " PosixPath('/content/drive/My Drive/Colab Notebooks/Fake News Detection/Fake News Detector.ipynb'),\n",
              " PosixPath('/content/drive/My Drive/Colab Notebooks/Fake News Detection/True.csv')]"
            ]
          },
          "metadata": {
            "tags": []
          },
          "execution_count": 156
        }
      ]
    },
    {
      "cell_type": "code",
      "metadata": {
        "id": "jZyOjem1vi3O",
        "colab_type": "code",
        "colab": {}
      },
      "source": [
        "# extract the true data from the True.csv file\n",
        "# extract the false data from the False.csv file\n",
        "\n",
        "true_news_data = pd.read_csv(path/'True.csv', engine='python')\n",
        "fake_news_data = pd.read_csv(path/'Fake.csv', engine='python')"
      ],
      "execution_count": 157,
      "outputs": []
    },
    {
      "cell_type": "code",
      "metadata": {
        "id": "HlKUf2ovvi5m",
        "colab_type": "code",
        "colab": {
          "base_uri": "https://localhost:8080/",
          "height": 538
        },
        "outputId": "536159d8-1c9e-45ab-9b69-caeec4a14146"
      },
      "source": [
        "# taking a look at the extracted true news data from the dataset\n",
        "\n",
        "true_news_data"
      ],
      "execution_count": 158,
      "outputs": [
        {
          "output_type": "execute_result",
          "data": {
            "text/html": [
              "<div>\n",
              "<style scoped>\n",
              "    .dataframe tbody tr th:only-of-type {\n",
              "        vertical-align: middle;\n",
              "    }\n",
              "\n",
              "    .dataframe tbody tr th {\n",
              "        vertical-align: top;\n",
              "    }\n",
              "\n",
              "    .dataframe thead th {\n",
              "        text-align: right;\n",
              "    }\n",
              "</style>\n",
              "<table border=\"1\" class=\"dataframe\">\n",
              "  <thead>\n",
              "    <tr style=\"text-align: right;\">\n",
              "      <th></th>\n",
              "      <th>title</th>\n",
              "      <th>text</th>\n",
              "      <th>subject</th>\n",
              "      <th>date</th>\n",
              "    </tr>\n",
              "  </thead>\n",
              "  <tbody>\n",
              "    <tr>\n",
              "      <th>0</th>\n",
              "      <td>As U.S. budget fight looms, Republicans flip t...</td>\n",
              "      <td>d of a conservative Republican faction in the ...</td>\n",
              "      <td>politicsNews</td>\n",
              "      <td>December 31, 2017</td>\n",
              "    </tr>\n",
              "    <tr>\n",
              "      <th>1</th>\n",
              "      <td>U.S. military to accept transgender recruits o...</td>\n",
              "      <td>d of a conservative Republican faction in the ...</td>\n",
              "      <td>politicsNews</td>\n",
              "      <td>December 29, 2017</td>\n",
              "    </tr>\n",
              "    <tr>\n",
              "      <th>2</th>\n",
              "      <td>Senior U.S. Republican senator: 'Let Mr. Muell...</td>\n",
              "      <td>d of a conservative Republican faction in the ...</td>\n",
              "      <td>politicsNews</td>\n",
              "      <td>December 31, 2017</td>\n",
              "    </tr>\n",
              "    <tr>\n",
              "      <th>3</th>\n",
              "      <td>FBI Russia probe helped by Australian diplomat...</td>\n",
              "      <td>d of a conservative Republican faction in the ...</td>\n",
              "      <td>politicsNews</td>\n",
              "      <td>December 30, 2017</td>\n",
              "    </tr>\n",
              "    <tr>\n",
              "      <th>4</th>\n",
              "      <td>Trump wants Postal Service to charge 'much mor...</td>\n",
              "      <td>d of a conservative Republican faction in the ...</td>\n",
              "      <td>politicsNews</td>\n",
              "      <td>December 29, 2017</td>\n",
              "    </tr>\n",
              "    <tr>\n",
              "      <th>...</th>\n",
              "      <td>...</td>\n",
              "      <td>...</td>\n",
              "      <td>...</td>\n",
              "      <td>...</td>\n",
              "    </tr>\n",
              "    <tr>\n",
              "      <th>21412</th>\n",
              "      <td>'Fully committed' NATO backs new U.S. approach...</td>\n",
              "      <td>es on Tuesday welcomed President Donald Trump ...</td>\n",
              "      <td>worldnews</td>\n",
              "      <td>August 22, 2017</td>\n",
              "    </tr>\n",
              "    <tr>\n",
              "      <th>21413</th>\n",
              "      <td>LexisNexis withdrew two products from Chinese ...</td>\n",
              "      <td>a provider of legal, regulatory and business i...</td>\n",
              "      <td>worldnews</td>\n",
              "      <td>August 22, 2017</td>\n",
              "    </tr>\n",
              "    <tr>\n",
              "      <th>21414</th>\n",
              "      <td>Minsk cultural hub becomes haven from authorities</td>\n",
              "      <td>w of disused Soviet-era factories in Minsk, a ...</td>\n",
              "      <td>worldnews</td>\n",
              "      <td>August 22, 2017</td>\n",
              "    </tr>\n",
              "    <tr>\n",
              "      <th>21415</th>\n",
              "      <td>Vatican upbeat on possibility of Pope Francis ...</td>\n",
              "      <td>retary of State Cardinal Pietro Parolin said o...</td>\n",
              "      <td>worldnews</td>\n",
              "      <td>August 22, 2017</td>\n",
              "    </tr>\n",
              "    <tr>\n",
              "      <th>21416</th>\n",
              "      <td>Indonesia to buy $1.14 billion worth of Russia...</td>\n",
              "      <td>will buy 11 Sukhoi fighter jets worth $1.14 bi...</td>\n",
              "      <td>worldnews</td>\n",
              "      <td>August 22, 2017</td>\n",
              "    </tr>\n",
              "  </tbody>\n",
              "</table>\n",
              "<p>21417 rows × 4 columns</p>\n",
              "</div>"
            ],
            "text/plain": [
              "                                                   title  ...                date\n",
              "0      As U.S. budget fight looms, Republicans flip t...  ...  December 31, 2017 \n",
              "1      U.S. military to accept transgender recruits o...  ...  December 29, 2017 \n",
              "2      Senior U.S. Republican senator: 'Let Mr. Muell...  ...  December 31, 2017 \n",
              "3      FBI Russia probe helped by Australian diplomat...  ...  December 30, 2017 \n",
              "4      Trump wants Postal Service to charge 'much mor...  ...  December 29, 2017 \n",
              "...                                                  ...  ...                 ...\n",
              "21412  'Fully committed' NATO backs new U.S. approach...  ...    August 22, 2017 \n",
              "21413  LexisNexis withdrew two products from Chinese ...  ...    August 22, 2017 \n",
              "21414  Minsk cultural hub becomes haven from authorities  ...    August 22, 2017 \n",
              "21415  Vatican upbeat on possibility of Pope Francis ...  ...    August 22, 2017 \n",
              "21416  Indonesia to buy $1.14 billion worth of Russia...  ...    August 22, 2017 \n",
              "\n",
              "[21417 rows x 4 columns]"
            ]
          },
          "metadata": {
            "tags": []
          },
          "execution_count": 158
        }
      ]
    },
    {
      "cell_type": "code",
      "metadata": {
        "id": "vV0oMgvBvnIE",
        "colab_type": "code",
        "colab": {
          "base_uri": "https://localhost:8080/",
          "height": 204
        },
        "outputId": "b6d29b95-293c-4809-d7de-90520feb22bb"
      },
      "source": [
        "# taking a look at the extracted fake news data from the dataset\n",
        "\n",
        "fake_news_data.head()"
      ],
      "execution_count": 159,
      "outputs": [
        {
          "output_type": "execute_result",
          "data": {
            "text/html": [
              "<div>\n",
              "<style scoped>\n",
              "    .dataframe tbody tr th:only-of-type {\n",
              "        vertical-align: middle;\n",
              "    }\n",
              "\n",
              "    .dataframe tbody tr th {\n",
              "        vertical-align: top;\n",
              "    }\n",
              "\n",
              "    .dataframe thead th {\n",
              "        text-align: right;\n",
              "    }\n",
              "</style>\n",
              "<table border=\"1\" class=\"dataframe\">\n",
              "  <thead>\n",
              "    <tr style=\"text-align: right;\">\n",
              "      <th></th>\n",
              "      <th>title</th>\n",
              "      <th>text</th>\n",
              "      <th>subject</th>\n",
              "      <th>date</th>\n",
              "    </tr>\n",
              "  </thead>\n",
              "  <tbody>\n",
              "    <tr>\n",
              "      <th>0</th>\n",
              "      <td>Donald Trump Sends Out Embarrassing New Year’...</td>\n",
              "      <td>Donald Trump just couldn t wish all Americans ...</td>\n",
              "      <td>News</td>\n",
              "      <td>December 31, 2017</td>\n",
              "    </tr>\n",
              "    <tr>\n",
              "      <th>1</th>\n",
              "      <td>Drunk Bragging Trump Staffer Started Russian ...</td>\n",
              "      <td>House Intelligence Committee Chairman Devin Nu...</td>\n",
              "      <td>News</td>\n",
              "      <td>December 31, 2017</td>\n",
              "    </tr>\n",
              "    <tr>\n",
              "      <th>2</th>\n",
              "      <td>Sheriff David Clarke Becomes An Internet Joke...</td>\n",
              "      <td>On Friday, it was revealed that former Milwauk...</td>\n",
              "      <td>News</td>\n",
              "      <td>December 30, 2017</td>\n",
              "    </tr>\n",
              "    <tr>\n",
              "      <th>3</th>\n",
              "      <td>Trump Is So Obsessed He Even Has Obama’s Name...</td>\n",
              "      <td>On Christmas day, Donald Trump announced that ...</td>\n",
              "      <td>News</td>\n",
              "      <td>December 29, 2017</td>\n",
              "    </tr>\n",
              "    <tr>\n",
              "      <th>4</th>\n",
              "      <td>Pope Francis Just Called Out Donald Trump Dur...</td>\n",
              "      <td>Pope Francis used his annual Christmas Day mes...</td>\n",
              "      <td>News</td>\n",
              "      <td>December 25, 2017</td>\n",
              "    </tr>\n",
              "  </tbody>\n",
              "</table>\n",
              "</div>"
            ],
            "text/plain": [
              "                                               title  ...               date\n",
              "0   Donald Trump Sends Out Embarrassing New Year’...  ...  December 31, 2017\n",
              "1   Drunk Bragging Trump Staffer Started Russian ...  ...  December 31, 2017\n",
              "2   Sheriff David Clarke Becomes An Internet Joke...  ...  December 30, 2017\n",
              "3   Trump Is So Obsessed He Even Has Obama’s Name...  ...  December 29, 2017\n",
              "4   Pope Francis Just Called Out Donald Trump Dur...  ...  December 25, 2017\n",
              "\n",
              "[5 rows x 4 columns]"
            ]
          },
          "metadata": {
            "tags": []
          },
          "execution_count": 159
        }
      ]
    },
    {
      "cell_type": "code",
      "metadata": {
        "id": "SI4-TgiMvlZD",
        "colab_type": "code",
        "colab": {
          "base_uri": "https://localhost:8080/",
          "height": 51
        },
        "outputId": "e8248412-81dd-4c5b-a35d-b6da118001d6"
      },
      "source": [
        "# printing the size of the data in true and fake news and fidning the total number of labels in the dataset\n",
        "\n",
        "print(\"Total entries in the True News Dataset and the number of labels: \", true_news_data.shape)\n",
        "print(\"Total entries in the False News Dataset and the number of labels: \", fake_news_data.shape)"
      ],
      "execution_count": 160,
      "outputs": [
        {
          "output_type": "stream",
          "text": [
            "Total entries in the True News Dataset and the number of labels:  (21417, 4)\n",
            "Total entries in the False News Dataset and the number of labels:  (23481, 4)\n"
          ],
          "name": "stdout"
        }
      ]
    },
    {
      "cell_type": "code",
      "metadata": {
        "id": "TGz3tuchaD2H",
        "colab_type": "code",
        "colab": {}
      },
      "source": [
        "# Drop all the rows that contain NaN values form both the true and false news dataset\n",
        "\n",
        "true_news_data = true_data.dropna()\n",
        "fake_news_data = fake_data.dropna()"
      ],
      "execution_count": 161,
      "outputs": []
    },
    {
      "cell_type": "code",
      "metadata": {
        "id": "vNZB6uq9aQIx",
        "colab_type": "code",
        "colab": {
          "base_uri": "https://localhost:8080/",
          "height": 51
        },
        "outputId": "79467c07-4da9-4bdc-ab50-289c7ba03161"
      },
      "source": [
        "# printing the size of the data in true and fake news after removing the rows with NaN values\n",
        "\n",
        "print(\"Total entries in the True News Dataset and the number of labels: \", true_news_data.shape)\n",
        "print(\"Total entries in the False News Dataset and the number of labels: \", fake_news_data.shape)"
      ],
      "execution_count": 162,
      "outputs": [
        {
          "output_type": "stream",
          "text": [
            "Total entries in the True News Dataset and the number of labels:  (21416, 4)\n",
            "Total entries in the False News Dataset and the number of labels:  (23481, 4)\n"
          ],
          "name": "stdout"
        }
      ]
    },
    {
      "cell_type": "code",
      "metadata": {
        "id": "2M4TDsPuvuXr",
        "colab_type": "code",
        "colab": {}
      },
      "source": [
        "# add another coloumn named: fake to each dataset to mark the news as either True or False\n",
        "# 0 ~ represents a True News\n",
        "# 1 ~ represents a False News\n",
        "\n",
        "true_news_data = true_news_data.assign(fake=0)\n",
        "fake_news_data = fake_news_data.assign(fake=1)"
      ],
      "execution_count": 163,
      "outputs": []
    },
    {
      "cell_type": "code",
      "metadata": {
        "id": "PIKiBS80vwLM",
        "colab_type": "code",
        "colab": {
          "base_uri": "https://localhost:8080/",
          "height": 204
        },
        "outputId": "d256190d-a38d-44ad-a12e-fbcbd87d2ce2"
      },
      "source": [
        "# print the first 5 entries from true news dataset to see the newly assigned labels for each type of news\n",
        "true_news_data.head()"
      ],
      "execution_count": 164,
      "outputs": [
        {
          "output_type": "execute_result",
          "data": {
            "text/html": [
              "<div>\n",
              "<style scoped>\n",
              "    .dataframe tbody tr th:only-of-type {\n",
              "        vertical-align: middle;\n",
              "    }\n",
              "\n",
              "    .dataframe tbody tr th {\n",
              "        vertical-align: top;\n",
              "    }\n",
              "\n",
              "    .dataframe thead th {\n",
              "        text-align: right;\n",
              "    }\n",
              "</style>\n",
              "<table border=\"1\" class=\"dataframe\">\n",
              "  <thead>\n",
              "    <tr style=\"text-align: right;\">\n",
              "      <th></th>\n",
              "      <th>title</th>\n",
              "      <th>text</th>\n",
              "      <th>subject</th>\n",
              "      <th>date</th>\n",
              "      <th>fake</th>\n",
              "    </tr>\n",
              "  </thead>\n",
              "  <tbody>\n",
              "    <tr>\n",
              "      <th>0</th>\n",
              "      <td>As U.S. budget fight looms, Republicans flip t...</td>\n",
              "      <td>d of a conservative Republican faction in the ...</td>\n",
              "      <td>politicsNews</td>\n",
              "      <td>December 31, 2017</td>\n",
              "      <td>0</td>\n",
              "    </tr>\n",
              "    <tr>\n",
              "      <th>1</th>\n",
              "      <td>U.S. military to accept transgender recruits o...</td>\n",
              "      <td>d of a conservative Republican faction in the ...</td>\n",
              "      <td>politicsNews</td>\n",
              "      <td>December 29, 2017</td>\n",
              "      <td>0</td>\n",
              "    </tr>\n",
              "    <tr>\n",
              "      <th>2</th>\n",
              "      <td>Senior U.S. Republican senator: 'Let Mr. Muell...</td>\n",
              "      <td>d of a conservative Republican faction in the ...</td>\n",
              "      <td>politicsNews</td>\n",
              "      <td>December 31, 2017</td>\n",
              "      <td>0</td>\n",
              "    </tr>\n",
              "    <tr>\n",
              "      <th>3</th>\n",
              "      <td>FBI Russia probe helped by Australian diplomat...</td>\n",
              "      <td>d of a conservative Republican faction in the ...</td>\n",
              "      <td>politicsNews</td>\n",
              "      <td>December 30, 2017</td>\n",
              "      <td>0</td>\n",
              "    </tr>\n",
              "    <tr>\n",
              "      <th>4</th>\n",
              "      <td>Trump wants Postal Service to charge 'much mor...</td>\n",
              "      <td>d of a conservative Republican faction in the ...</td>\n",
              "      <td>politicsNews</td>\n",
              "      <td>December 29, 2017</td>\n",
              "      <td>0</td>\n",
              "    </tr>\n",
              "  </tbody>\n",
              "</table>\n",
              "</div>"
            ],
            "text/plain": [
              "                                               title  ... fake\n",
              "0  As U.S. budget fight looms, Republicans flip t...  ...    0\n",
              "1  U.S. military to accept transgender recruits o...  ...    0\n",
              "2  Senior U.S. Republican senator: 'Let Mr. Muell...  ...    0\n",
              "3  FBI Russia probe helped by Australian diplomat...  ...    0\n",
              "4  Trump wants Postal Service to charge 'much mor...  ...    0\n",
              "\n",
              "[5 rows x 5 columns]"
            ]
          },
          "metadata": {
            "tags": []
          },
          "execution_count": 164
        }
      ]
    },
    {
      "cell_type": "code",
      "metadata": {
        "id": "XNn5QqCYv0WK",
        "colab_type": "code",
        "colab": {
          "base_uri": "https://localhost:8080/",
          "height": 289
        },
        "outputId": "a5a301ca-d70a-4a2b-b103-f8d2b101b8c7"
      },
      "source": [
        "fake_news_data.head()"
      ],
      "execution_count": 166,
      "outputs": [
        {
          "output_type": "execute_result",
          "data": {
            "text/html": [
              "<div>\n",
              "<style scoped>\n",
              "    .dataframe tbody tr th:only-of-type {\n",
              "        vertical-align: middle;\n",
              "    }\n",
              "\n",
              "    .dataframe tbody tr th {\n",
              "        vertical-align: top;\n",
              "    }\n",
              "\n",
              "    .dataframe thead th {\n",
              "        text-align: right;\n",
              "    }\n",
              "</style>\n",
              "<table border=\"1\" class=\"dataframe\">\n",
              "  <thead>\n",
              "    <tr style=\"text-align: right;\">\n",
              "      <th></th>\n",
              "      <th>title</th>\n",
              "      <th>text</th>\n",
              "      <th>subject</th>\n",
              "      <th>date</th>\n",
              "      <th>fake</th>\n",
              "    </tr>\n",
              "  </thead>\n",
              "  <tbody>\n",
              "    <tr>\n",
              "      <th>0</th>\n",
              "      <td>Donald Trump Sends Out Embarrassing New Year’...</td>\n",
              "      <td>Donald Trump just couldn t wish all Americans ...</td>\n",
              "      <td>News</td>\n",
              "      <td>December 31, 2017</td>\n",
              "      <td>1</td>\n",
              "    </tr>\n",
              "    <tr>\n",
              "      <th>1</th>\n",
              "      <td>Drunk Bragging Trump Staffer Started Russian ...</td>\n",
              "      <td>House Intelligence Committee Chairman Devin Nu...</td>\n",
              "      <td>News</td>\n",
              "      <td>December 31, 2017</td>\n",
              "      <td>1</td>\n",
              "    </tr>\n",
              "    <tr>\n",
              "      <th>2</th>\n",
              "      <td>Sheriff David Clarke Becomes An Internet Joke...</td>\n",
              "      <td>On Friday, it was revealed that former Milwauk...</td>\n",
              "      <td>News</td>\n",
              "      <td>December 30, 2017</td>\n",
              "      <td>1</td>\n",
              "    </tr>\n",
              "    <tr>\n",
              "      <th>3</th>\n",
              "      <td>Trump Is So Obsessed He Even Has Obama’s Name...</td>\n",
              "      <td>On Christmas day, Donald Trump announced that ...</td>\n",
              "      <td>News</td>\n",
              "      <td>December 29, 2017</td>\n",
              "      <td>1</td>\n",
              "    </tr>\n",
              "    <tr>\n",
              "      <th>4</th>\n",
              "      <td>Pope Francis Just Called Out Donald Trump Dur...</td>\n",
              "      <td>Pope Francis used his annual Christmas Day mes...</td>\n",
              "      <td>News</td>\n",
              "      <td>December 25, 2017</td>\n",
              "      <td>1</td>\n",
              "    </tr>\n",
              "  </tbody>\n",
              "</table>\n",
              "</div>"
            ],
            "text/plain": [
              "                                               title  ... fake\n",
              "0   Donald Trump Sends Out Embarrassing New Year’...  ...    1\n",
              "1   Drunk Bragging Trump Staffer Started Russian ...  ...    1\n",
              "2   Sheriff David Clarke Becomes An Internet Joke...  ...    1\n",
              "3   Trump Is So Obsessed He Even Has Obama’s Name...  ...    1\n",
              "4   Pope Francis Just Called Out Donald Trump Dur...  ...    1\n",
              "\n",
              "[5 rows x 5 columns]"
            ]
          },
          "metadata": {
            "tags": []
          },
          "execution_count": 166
        }
      ]
    },
    {
      "cell_type": "code",
      "metadata": {
        "id": "XDMw0bLdv06U",
        "colab_type": "code",
        "colab": {}
      },
      "source": [
        "# merge both the datasets of true and fake news into one large datset for classification\n",
        "\n",
        "dataset = true_news_data.append(fake_news_data)"
      ],
      "execution_count": 168,
      "outputs": []
    },
    {
      "cell_type": "code",
      "metadata": {
        "id": "G4VSVgZdv089",
        "colab_type": "code",
        "colab": {
          "base_uri": "https://localhost:8080/",
          "height": 204
        },
        "outputId": "a1594def-7f29-4a2c-9351-73af2f1607b6"
      },
      "source": [
        "dataset.head()"
      ],
      "execution_count": 169,
      "outputs": [
        {
          "output_type": "execute_result",
          "data": {
            "text/html": [
              "<div>\n",
              "<style scoped>\n",
              "    .dataframe tbody tr th:only-of-type {\n",
              "        vertical-align: middle;\n",
              "    }\n",
              "\n",
              "    .dataframe tbody tr th {\n",
              "        vertical-align: top;\n",
              "    }\n",
              "\n",
              "    .dataframe thead th {\n",
              "        text-align: right;\n",
              "    }\n",
              "</style>\n",
              "<table border=\"1\" class=\"dataframe\">\n",
              "  <thead>\n",
              "    <tr style=\"text-align: right;\">\n",
              "      <th></th>\n",
              "      <th>title</th>\n",
              "      <th>text</th>\n",
              "      <th>subject</th>\n",
              "      <th>date</th>\n",
              "      <th>fake</th>\n",
              "    </tr>\n",
              "  </thead>\n",
              "  <tbody>\n",
              "    <tr>\n",
              "      <th>0</th>\n",
              "      <td>As U.S. budget fight looms, Republicans flip t...</td>\n",
              "      <td>d of a conservative Republican faction in the ...</td>\n",
              "      <td>politicsNews</td>\n",
              "      <td>December 31, 2017</td>\n",
              "      <td>0</td>\n",
              "    </tr>\n",
              "    <tr>\n",
              "      <th>1</th>\n",
              "      <td>U.S. military to accept transgender recruits o...</td>\n",
              "      <td>d of a conservative Republican faction in the ...</td>\n",
              "      <td>politicsNews</td>\n",
              "      <td>December 29, 2017</td>\n",
              "      <td>0</td>\n",
              "    </tr>\n",
              "    <tr>\n",
              "      <th>2</th>\n",
              "      <td>Senior U.S. Republican senator: 'Let Mr. Muell...</td>\n",
              "      <td>d of a conservative Republican faction in the ...</td>\n",
              "      <td>politicsNews</td>\n",
              "      <td>December 31, 2017</td>\n",
              "      <td>0</td>\n",
              "    </tr>\n",
              "    <tr>\n",
              "      <th>3</th>\n",
              "      <td>FBI Russia probe helped by Australian diplomat...</td>\n",
              "      <td>d of a conservative Republican faction in the ...</td>\n",
              "      <td>politicsNews</td>\n",
              "      <td>December 30, 2017</td>\n",
              "      <td>0</td>\n",
              "    </tr>\n",
              "    <tr>\n",
              "      <th>4</th>\n",
              "      <td>Trump wants Postal Service to charge 'much mor...</td>\n",
              "      <td>d of a conservative Republican faction in the ...</td>\n",
              "      <td>politicsNews</td>\n",
              "      <td>December 29, 2017</td>\n",
              "      <td>0</td>\n",
              "    </tr>\n",
              "  </tbody>\n",
              "</table>\n",
              "</div>"
            ],
            "text/plain": [
              "                                               title  ... fake\n",
              "0  As U.S. budget fight looms, Republicans flip t...  ...    0\n",
              "1  U.S. military to accept transgender recruits o...  ...    0\n",
              "2  Senior U.S. Republican senator: 'Let Mr. Muell...  ...    0\n",
              "3  FBI Russia probe helped by Australian diplomat...  ...    0\n",
              "4  Trump wants Postal Service to charge 'much mor...  ...    0\n",
              "\n",
              "[5 rows x 5 columns]"
            ]
          },
          "metadata": {
            "tags": []
          },
          "execution_count": 169
        }
      ]
    },
    {
      "cell_type": "code",
      "metadata": {
        "id": "mJVY3BPnv4Kj",
        "colab_type": "code",
        "colab": {
          "base_uri": "https://localhost:8080/",
          "height": 34
        },
        "outputId": "7f09ef1a-d216-44e8-bee7-ff517ebcd4b2"
      },
      "source": [
        "# the shape will show that now we have 5 columns (including the newly added fake column)\n",
        "dataset.shape"
      ],
      "execution_count": 171,
      "outputs": [
        {
          "output_type": "execute_result",
          "data": {
            "text/plain": [
              "(44897, 5)"
            ]
          },
          "metadata": {
            "tags": []
          },
          "execution_count": 171
        }
      ]
    },
    {
      "cell_type": "code",
      "metadata": {
        "id": "lS2WSRJNv5sF",
        "colab_type": "code",
        "colab": {
          "base_uri": "https://localhost:8080/",
          "height": 17
        },
        "outputId": "7666b226-5ad2-4722-e3e3-e8912a918e1b"
      },
      "source": [
        "# split the dataset into training and validation sets\n",
        "# we assigned 20% of the data to Validation Set randomly \n",
        "# we will be classifying the news bsed on the text of the news, so we will use the text column in the dataset for cl\n",
        "# classification purposes\n",
        "\n",
        "data = (TextList.from_df(df=dataset, path=path, cols=1).split_by_rand_pct(0.2).label_from_df(cols=4).databunch())"
      ],
      "execution_count": 175,
      "outputs": [
        {
          "output_type": "display_data",
          "data": {
            "text/html": [
              ""
            ],
            "text/plain": [
              "<IPython.core.display.HTML object>"
            ]
          },
          "metadata": {
            "tags": []
          }
        },
        {
          "output_type": "display_data",
          "data": {
            "text/html": [
              ""
            ],
            "text/plain": [
              "<IPython.core.display.HTML object>"
            ]
          },
          "metadata": {
            "tags": []
          }
        }
      ]
    },
    {
      "cell_type": "code",
      "metadata": {
        "id": "kPcBLZIev7Es",
        "colab_type": "code",
        "colab": {
          "base_uri": "https://localhost:8080/",
          "height": 391
        },
        "outputId": "6640dac2-8826-4318-bb69-28d7c9a982ab"
      },
      "source": [
        "# show a bunch of the data that we will use for classification\n",
        "\n",
        "data.show_batch()"
      ],
      "execution_count": 176,
      "outputs": [
        {
          "output_type": "display_data",
          "data": {
            "text/html": [
              "<table border=\"1\" class=\"dataframe\">\n",
              "  <thead>\n",
              "    <tr style=\"text-align: right;\">\n",
              "      <th>text</th>\n",
              "      <th>target</th>\n",
              "    </tr>\n",
              "  </thead>\n",
              "  <tbody>\n",
              "    <tr>\n",
              "      <td>xxbos xxmaj funny how secrets travel . i d start to believe , if i were to bleed . xxmaj lyrics written by xxmaj david xxmaj bowie from the album xxunk xxmaj helton 21st xxmaj century xxmaj wire xxmaj in the days before the xxup us presidential election in xxmaj november 2016 , xxmaj wikileaks revealed a new string of emails connected to xxmaj hillary xxmaj clinton s 2016 campaign</td>\n",
              "      <td>1</td>\n",
              "    </tr>\n",
              "    <tr>\n",
              "      <td>xxbos xxmaj with mainstream media and establishment politicians stacked against him from the moment he announced his run for the presidency , xxmaj donald xxup j. xxmaj trump has been in an ongoing pitched battle to communicate his plans and his eventual successes to xxmaj americans . xxmaj through public rallies and social media , he has managed to bypass the traditional information gatekeepers and has spoken directly to the</td>\n",
              "      <td>1</td>\n",
              "    </tr>\n",
              "    <tr>\n",
              "      <td>xxbos xxunk text of former xxup fbi xxmaj director xxmaj james xxmaj comey ’s testimony as prepared for delivery to the xxup u.s. xxmaj senate xxmaj intelligence xxmaj committee . xxmaj comey is scheduled to testify at 10 a.m. ( 1400 xxup gmt ) on xxmaj thursday as part of the committee ’s investigation into xxup u.s. intelligence agency allegations that xxmaj russia tried to interfere with the 2016 presidential</td>\n",
              "      <td>0</td>\n",
              "    </tr>\n",
              "    <tr>\n",
              "      <td>xxbos i just happened to be listening to xxmaj rush today and want to pass this on to everyone . xxmaj please share this and stop the false story being reported to try and bring down xxmaj trump . xxmaj it s bad enough that the lefty media is trying to take down xxmaj trump with big lies , but now it s the establishment xxmaj republicans like xxmaj kasich</td>\n",
              "      <td>1</td>\n",
              "    </tr>\n",
              "    <tr>\n",
              "      <td>xxbos xxmaj this is a story about how once trusted mainstream media outlets like xxmaj washington xxmaj post and the xxmaj new xxmaj york xxmaj times have used their vast platforms to distort reality and spread disinformation en masse to both the xxmaj american and global public . xxmaj it s also a story about a new excuse industry which has sprung up to xxunk xxmaj hillary xxmaj clinton s</td>\n",
              "      <td>1</td>\n",
              "    </tr>\n",
              "  </tbody>\n",
              "</table>"
            ],
            "text/plain": [
              "<IPython.core.display.HTML object>"
            ]
          },
          "metadata": {
            "tags": []
          }
        }
      ]
    },
    {
      "cell_type": "code",
      "metadata": {
        "id": "R2bG9I3yv7yF",
        "colab_type": "code",
        "colab": {}
      },
      "source": [
        "# Create a Learner with a text classifier from data and showing the error_rate accordingly\n",
        "\n",
        "learn = text_classifier_learner(data, AWD_LSTM, drop_mult=0.5, metrics=error_rate)"
      ],
      "execution_count": 177,
      "outputs": []
    },
    {
      "cell_type": "code",
      "metadata": {
        "id": "12j5wM2rv-Jz",
        "colab_type": "code",
        "colab": {
          "base_uri": "https://localhost:8080/",
          "height": 80
        },
        "outputId": "5a3e39b6-92a5-49c0-d853-856372383e9b"
      },
      "source": [
        "# we recieved an extremely good accuracy with just 1 epoch so we left it as it is\n",
        "\n",
        "learn.fit_one_cycle(1)"
      ],
      "execution_count": 178,
      "outputs": [
        {
          "output_type": "display_data",
          "data": {
            "text/html": [
              "<table border=\"1\" class=\"dataframe\">\n",
              "  <thead>\n",
              "    <tr style=\"text-align: left;\">\n",
              "      <th>epoch</th>\n",
              "      <th>train_loss</th>\n",
              "      <th>valid_loss</th>\n",
              "      <th>error_rate</th>\n",
              "      <th>time</th>\n",
              "    </tr>\n",
              "  </thead>\n",
              "  <tbody>\n",
              "    <tr>\n",
              "      <td>0</td>\n",
              "      <td>0.528527</td>\n",
              "      <td>0.572919</td>\n",
              "      <td>0.336786</td>\n",
              "      <td>04:57</td>\n",
              "    </tr>\n",
              "  </tbody>\n",
              "</table>"
            ],
            "text/plain": [
              "<IPython.core.display.HTML object>"
            ]
          },
          "metadata": {
            "tags": []
          }
        }
      ]
    },
    {
      "cell_type": "code",
      "metadata": {
        "id": "FRaPXcT-Dnss",
        "colab_type": "code",
        "colab": {}
      },
      "source": [
        "# save the model uptill now\n",
        "learn.save('stage-1')"
      ],
      "execution_count": 179,
      "outputs": []
    },
    {
      "cell_type": "code",
      "metadata": {
        "id": "dFA8bmDHIW4J",
        "colab_type": "code",
        "colab": {}
      },
      "source": [
        "# Unfreeze entire model. All weights from frozen layers of the model now can get updated from their pre-trained state\n",
        "\n",
        "learn.unfreeze()"
      ],
      "execution_count": 180,
      "outputs": []
    },
    {
      "cell_type": "code",
      "metadata": {
        "id": "q93ipU52Im-J",
        "colab_type": "code",
        "colab": {
          "base_uri": "https://localhost:8080/",
          "height": 112
        },
        "outputId": "ca83b26a-5a69-42be-85db-afb4a78d3b67"
      },
      "source": [
        "# running the learning rate finder for the current model to find the optimal learning rate\n",
        "\n",
        "learn.lr_find()"
      ],
      "execution_count": 181,
      "outputs": [
        {
          "output_type": "display_data",
          "data": {
            "text/html": [
              "\n",
              "    <div>\n",
              "        <style>\n",
              "            /* Turns off some styling */\n",
              "            progress {\n",
              "                /* gets rid of default border in Firefox and Opera. */\n",
              "                border: none;\n",
              "                /* Needs to be in here for Safari polyfill so background images work as expected. */\n",
              "                background-size: auto;\n",
              "            }\n",
              "            .progress-bar-interrupted, .progress-bar-interrupted::-webkit-progress-bar {\n",
              "                background: #F44336;\n",
              "            }\n",
              "        </style>\n",
              "      <progress value='0' class='' max='1' style='width:300px; height:20px; vertical-align: middle;'></progress>\n",
              "      0.00% [0/1 00:00<00:00]\n",
              "    </div>\n",
              "    \n",
              "<table border=\"1\" class=\"dataframe\">\n",
              "  <thead>\n",
              "    <tr style=\"text-align: left;\">\n",
              "      <th>epoch</th>\n",
              "      <th>train_loss</th>\n",
              "      <th>valid_loss</th>\n",
              "      <th>error_rate</th>\n",
              "      <th>time</th>\n",
              "    </tr>\n",
              "  </thead>\n",
              "  <tbody>\n",
              "  </tbody>\n",
              "</table><p>\n",
              "\n",
              "    <div>\n",
              "        <style>\n",
              "            /* Turns off some styling */\n",
              "            progress {\n",
              "                /* gets rid of default border in Firefox and Opera. */\n",
              "                border: none;\n",
              "                /* Needs to be in here for Safari polyfill so background images work as expected. */\n",
              "                background-size: auto;\n",
              "            }\n",
              "            .progress-bar-interrupted, .progress-bar-interrupted::-webkit-progress-bar {\n",
              "                background: #F44336;\n",
              "            }\n",
              "        </style>\n",
              "      <progress value='93' class='' max='561' style='width:300px; height:20px; vertical-align: middle;'></progress>\n",
              "      16.58% [93/561 01:35<08:01 1.3812]\n",
              "    </div>\n",
              "    "
            ],
            "text/plain": [
              "<IPython.core.display.HTML object>"
            ]
          },
          "metadata": {
            "tags": []
          }
        },
        {
          "output_type": "stream",
          "text": [
            "LR Finder is complete, type {learner_name}.recorder.plot() to see the graph.\n"
          ],
          "name": "stdout"
        }
      ]
    },
    {
      "cell_type": "code",
      "metadata": {
        "id": "DnT0Yh3BIpyF",
        "colab_type": "code",
        "colab": {
          "base_uri": "https://localhost:8080/",
          "height": 279
        },
        "outputId": "a15a7491-cb23-43fe-9732-337f9ddec82f"
      },
      "source": [
        "# plot the learning rate graph and look for the strongest downward curve and then select a slice of the range\n",
        "# as the learning rate\n",
        "\n",
        "learn.recorder.plot()"
      ],
      "execution_count": 182,
      "outputs": [
        {
          "output_type": "display_data",
          "data": {
            "image/png": "[encoded data removed]",
            "text/plain": [
              "<Figure size 432x288 with 1 Axes>"
            ]
          },
          "metadata": {
            "tags": [],
            "needs_background": "light"
          }
        }
      ]
    },
    {
      "cell_type": "code",
      "metadata": {
        "id": "b3yXJGb4Itu_",
        "colab_type": "code",
        "colab": {
          "base_uri": "https://localhost:8080/",
          "height": 111
        },
        "outputId": "ee6eeaa1-264f-4b5c-c02a-185bb8ec1c63"
      },
      "source": [
        "# once identifying the ideal learning rate, fit the model once again with the new learnign rate\n",
        "# running 2 epochs this time\n",
        "\n",
        "learn.fit_one_cycle(2, max_lr=slice(1e-4,1e-2))"
      ],
      "execution_count": 183,
      "outputs": [
        {
          "output_type": "display_data",
          "data": {
            "text/html": [
              "<table border=\"1\" class=\"dataframe\">\n",
              "  <thead>\n",
              "    <tr style=\"text-align: left;\">\n",
              "      <th>epoch</th>\n",
              "      <th>train_loss</th>\n",
              "      <th>valid_loss</th>\n",
              "      <th>error_rate</th>\n",
              "      <th>time</th>\n",
              "    </tr>\n",
              "  </thead>\n",
              "  <tbody>\n",
              "    <tr>\n",
              "      <td>0</td>\n",
              "      <td>0.110029</td>\n",
              "      <td>0.247776</td>\n",
              "      <td>0.083862</td>\n",
              "      <td>11:10</td>\n",
              "    </tr>\n",
              "    <tr>\n",
              "      <td>1</td>\n",
              "      <td>0.069312</td>\n",
              "      <td>0.021824</td>\n",
              "      <td>0.004900</td>\n",
              "      <td>09:23</td>\n",
              "    </tr>\n",
              "  </tbody>\n",
              "</table>"
            ],
            "text/plain": [
              "<IPython.core.display.HTML object>"
            ]
          },
          "metadata": {
            "tags": []
          }
        }
      ]
    },
    {
      "cell_type": "code",
      "metadata": {
        "id": "b8r3rMLqIwlN",
        "colab_type": "code",
        "colab": {}
      },
      "source": [
        "# save the current model uptill now\n",
        "learn.save('stage-2')"
      ],
      "execution_count": 184,
      "outputs": []
    },
    {
      "cell_type": "markdown",
      "metadata": {
        "id": "69iBR6lUsqTx",
        "colab_type": "text"
      },
      "source": [
        "## Interpret the Model using a Confusion Matrix"
      ]
    },
    {
      "cell_type": "code",
      "metadata": {
        "id": "LCX6sQOFI5AT",
        "colab_type": "code",
        "colab": {
          "base_uri": "https://localhost:8080/",
          "height": 1000
        },
        "outputId": "8c7d8415-cfbc-4272-87aa-78b9d4328eb2"
      },
      "source": [
        "# load the current model uptill now\n",
        "learn.load('stage-2')"
      ],
      "execution_count": 185,
      "outputs": [
        {
          "output_type": "execute_result",
          "data": {
            "text/plain": [
              "RNNLearner(data=TextClasDataBunch;\n",
              "\n",
              "Train: LabelList (35918 items)\n",
              "x: TextList\n",
              "xxbos d of a conservative xxmaj republican faction in the xxup u.s. xxmaj congress , who voted this month for a huge expansion of the national debt to pay for tax cuts , called himself a “ fiscal conservative ” on xxmaj sunday and urged budget restraint in 2018 . xxmaj in keeping with a sharp pivot under way among xxmaj republicans , xxup u.s. xxmaj representative xxmaj mark xxmaj meadows , speaking on xxup cbs ’ “ xxmaj face the xxmaj nation , ” drew a hard line on federal spending , which lawmakers are bracing to do battle over in xxmaj january . xxmaj when they return from the holidays on xxmaj wednesday , lawmakers will begin trying to pass a federal budget in a fight likely to be linked to other issues , such as immigration policy , even as the xxmaj november congressional election campaigns approach in which xxmaj republicans will seek to keep control of xxmaj congress . xxmaj president xxmaj donald xxmaj trump and his xxmaj republicans want a big budget increase in military spending , while xxmaj democrats also want proportional increases for non - defense “ discretionary ” spending on programs that support education , scientific research , infrastructure , public health and environmental protection . “ xxmaj the ( xxmaj trump ) administration has already been willing to say : ‘ xxmaj we ’re going to increase non - defense discretionary spending ... by about 7 percent , ’ ” xxmaj meadows , chairman of the small but influential xxmaj house xxmaj freedom xxmaj caucus , said on the program . “ xxmaj now , xxmaj democrats are saying that ’s not enough , we need to give the government a pay raise of 10 to 11 percent . xxmaj for a fiscal conservative , i do n’t see where the rationale is . ... xxmaj eventually you run out of other people ’s money , ” he said . xxmaj meadows was among xxmaj republicans who voted in late xxmaj december for their party ’s debt - financed tax overhaul , which is expected to balloon the federal budget deficit and add about $ 1.5 trillion over 10 years to the $ 20 trillion national debt . “ xxmaj it ’s interesting to hear xxmaj mark talk about fiscal responsibility , ” xxmaj democratic xxup u.s. xxmaj representative xxmaj joseph xxmaj crowley said on xxup cbs . xxmaj crowley said the xxmaj republican tax bill would require the xxmaj united xxmaj states to borrow $ 1.5 trillion , to be paid off by future generations , to finance tax cuts for corporations and the rich . “ xxmaj this is one of the least ... fiscally responsible bills we ’ve ever seen passed in the history of the xxmaj house of xxmaj representatives . i think we ’re going to be paying for this for many , many years to come , ” xxmaj crowley said . xxmaj republicans insist the tax package , the biggest xxup u.s. tax overhaul in more than 30 years , will boost the economy and job growth . xxmaj house xxmaj speaker xxmaj paul xxmaj ryan , who also supported the tax bill , recently went further than xxmaj meadows , making clear in a radio interview that welfare or “ entitlement reform , ” as the party often calls it , would be a top xxmaj republican priority in 2018 . xxmaj in xxmaj republican parlance , “ entitlement ” programs mean food stamps , housing assistance , xxmaj medicare and xxmaj medicaid health insurance for the elderly , poor and disabled , as well as other programs created by xxmaj washington to assist the needy . xxmaj democrats seized on xxmaj ryan ’s early xxmaj december remarks , saying they showed xxmaj republicans would try to pay for their tax overhaul by seeking spending cuts for social programs . xxmaj but the goals of xxmaj house xxmaj republicans may have to take a back seat to the xxmaj senate , where the votes of some xxmaj democrats will be needed to approve a budget and prevent a government shutdown . xxmaj democrats will use their leverage in the xxmaj senate , which xxmaj republicans narrowly control , to defend both discretionary non - defense programs and social spending , while tackling the issue of the “ xxmaj dreamers , ” people brought illegally to the country as children . xxmaj trump in xxmaj september put a xxmaj march 2018 expiration date on the xxmaj deferred xxmaj action for xxmaj childhood xxmaj arrivals , or xxup daca , program , which protects the young immigrants from deportation and provides them with work permits . xxmaj the president has said in recent xxmaj twitter messages he wants funding for his proposed xxmaj mexican border wall and other immigration law changes in exchange for agreeing to help the xxmaj dreamers . xxmaj representative xxmaj debbie xxmaj dingell told xxup cbs she did not favor linking that issue to other policy objectives , such as wall funding . “ xxmaj we need to do xxup daca clean , ” she said . xxmaj on xxmaj wednesday , xxmaj trump aides will meet with congressional leaders to discuss those issues . xxmaj that will be followed by a weekend of strategy sessions for xxmaj trump and xxmaj republican leaders on xxmaj jan. 6 and 7 , the xxmaj white xxmaj house said . xxmaj trump was also scheduled to meet on xxmaj sunday with xxmaj florida xxmaj republican xxmaj governor xxmaj rick xxmaj scott , who wants more emergency aid . xxmaj the xxmaj house has passed an $ 81 billion aid package after hurricanes in xxmaj florida , xxmaj texas and xxmaj puerto xxmaj rico , and wildfires in xxmaj california . xxmaj the package far exceeded the $ 44 billion requested by the xxmaj trump administration . xxmaj the xxmaj senate has not yet voted on the aid .,xxbos d of a conservative xxmaj republican faction in the xxup u.s. xxmaj congress , who voted this month for a huge expansion of the national debt to pay for tax cuts , called himself a “ fiscal conservative ” on xxmaj sunday and urged budget restraint in 2018 . xxmaj in keeping with a sharp pivot under way among xxmaj republicans , xxup u.s. xxmaj representative xxmaj mark xxmaj meadows , speaking on xxup cbs ’ “ xxmaj face the xxmaj nation , ” drew a hard line on federal spending , which lawmakers are bracing to do battle over in xxmaj january . xxmaj when they return from the holidays on xxmaj wednesday , lawmakers will begin trying to pass a federal budget in a fight likely to be linked to other issues , such as immigration policy , even as the xxmaj november congressional election campaigns approach in which xxmaj republicans will seek to keep control of xxmaj congress . xxmaj president xxmaj donald xxmaj trump and his xxmaj republicans want a big budget increase in military spending , while xxmaj democrats also want proportional increases for non - defense “ discretionary ” spending on programs that support education , scientific research , infrastructure , public health and environmental protection . “ xxmaj the ( xxmaj trump ) administration has already been willing to say : ‘ xxmaj we ’re going to increase non - defense discretionary spending ... by about 7 percent , ’ ” xxmaj meadows , chairman of the small but influential xxmaj house xxmaj freedom xxmaj caucus , said on the program . “ xxmaj now , xxmaj democrats are saying that ’s not enough , we need to give the government a pay raise of 10 to 11 percent . xxmaj for a fiscal conservative , i do n’t see where the rationale is . ... xxmaj eventually you run out of other people ’s money , ” he said . xxmaj meadows was among xxmaj republicans who voted in late xxmaj december for their party ’s debt - financed tax overhaul , which is expected to balloon the federal budget deficit and add about $ 1.5 trillion over 10 years to the $ 20 trillion national debt . “ xxmaj it ’s interesting to hear xxmaj mark talk about fiscal responsibility , ” xxmaj democratic xxup u.s. xxmaj representative xxmaj joseph xxmaj crowley said on xxup cbs . xxmaj crowley said the xxmaj republican tax bill would require the xxmaj united xxmaj states to borrow $ 1.5 trillion , to be paid off by future generations , to finance tax cuts for corporations and the rich . “ xxmaj this is one of the least ... fiscally responsible bills we ’ve ever seen passed in the history of the xxmaj house of xxmaj representatives . i think we ’re going to be paying for this for many , many years to come , ” xxmaj crowley said . xxmaj republicans insist the tax package , the biggest xxup u.s. tax overhaul in more than 30 years , will boost the economy and job growth . xxmaj house xxmaj speaker xxmaj paul xxmaj ryan , who also supported the tax bill , recently went further than xxmaj meadows , making clear in a radio interview that welfare or “ entitlement reform , ” as the party often calls it , would be a top xxmaj republican priority in 2018 . xxmaj in xxmaj republican parlance , “ entitlement ” programs mean food stamps , housing assistance , xxmaj medicare and xxmaj medicaid health insurance for the elderly , poor and disabled , as well as other programs created by xxmaj washington to assist the needy . xxmaj democrats seized on xxmaj ryan ’s early xxmaj december remarks , saying they showed xxmaj republicans would try to pay for their tax overhaul by seeking spending cuts for social programs . xxmaj but the goals of xxmaj house xxmaj republicans may have to take a back seat to the xxmaj senate , where the votes of some xxmaj democrats will be needed to approve a budget and prevent a government shutdown . xxmaj democrats will use their leverage in the xxmaj senate , which xxmaj republicans narrowly control , to defend both discretionary non - defense programs and social spending , while tackling the issue of the “ xxmaj dreamers , ” people brought illegally to the country as children . xxmaj trump in xxmaj september put a xxmaj march 2018 expiration date on the xxmaj deferred xxmaj action for xxmaj childhood xxmaj arrivals , or xxup daca , program , which protects the young immigrants from deportation and provides them with work permits . xxmaj the president has said in recent xxmaj twitter messages he wants funding for his proposed xxmaj mexican border wall and other immigration law changes in exchange for agreeing to help the xxmaj dreamers . xxmaj representative xxmaj debbie xxmaj dingell told xxup cbs she did not favor linking that issue to other policy objectives , such as wall funding . “ xxmaj we need to do xxup daca clean , ” she said . xxmaj on xxmaj wednesday , xxmaj trump aides will meet with congressional leaders to discuss those issues . xxmaj that will be followed by a weekend of strategy sessions for xxmaj trump and xxmaj republican leaders on xxmaj jan. 6 and 7 , the xxmaj white xxmaj house said . xxmaj trump was also scheduled to meet on xxmaj sunday with xxmaj florida xxmaj republican xxmaj governor xxmaj rick xxmaj scott , who wants more emergency aid . xxmaj the xxmaj house has passed an $ 81 billion aid package after hurricanes in xxmaj florida , xxmaj texas and xxmaj puerto xxmaj rico , and wildfires in xxmaj california . xxmaj the package far exceeded the $ 44 billion requested by the xxmaj trump administration . xxmaj the xxmaj senate has not yet voted on the aid .,xxbos d of a conservative xxmaj republican faction in the xxup u.s. xxmaj congress , who voted this month for a huge expansion of the national debt to pay for tax cuts , called himself a “ fiscal conservative ” on xxmaj sunday and urged budget restraint in 2018 . xxmaj in keeping with a sharp pivot under way among xxmaj republicans , xxup u.s. xxmaj representative xxmaj mark xxmaj meadows , speaking on xxup cbs ’ “ xxmaj face the xxmaj nation , ” drew a hard line on federal spending , which lawmakers are bracing to do battle over in xxmaj january . xxmaj when they return from the holidays on xxmaj wednesday , lawmakers will begin trying to pass a federal budget in a fight likely to be linked to other issues , such as immigration policy , even as the xxmaj november congressional election campaigns approach in which xxmaj republicans will seek to keep control of xxmaj congress . xxmaj president xxmaj donald xxmaj trump and his xxmaj republicans want a big budget increase in military spending , while xxmaj democrats also want proportional increases for non - defense “ discretionary ” spending on programs that support education , scientific research , infrastructure , public health and environmental protection . “ xxmaj the ( xxmaj trump ) administration has already been willing to say : ‘ xxmaj we ’re going to increase non - defense discretionary spending ... by about 7 percent , ’ ” xxmaj meadows , chairman of the small but influential xxmaj house xxmaj freedom xxmaj caucus , said on the program . “ xxmaj now , xxmaj democrats are saying that ’s not enough , we need to give the government a pay raise of 10 to 11 percent . xxmaj for a fiscal conservative , i do n’t see where the rationale is . ... xxmaj eventually you run out of other people ’s money , ” he said . xxmaj meadows was among xxmaj republicans who voted in late xxmaj december for their party ’s debt - financed tax overhaul , which is expected to balloon the federal budget deficit and add about $ 1.5 trillion over 10 years to the $ 20 trillion national debt . “ xxmaj it ’s interesting to hear xxmaj mark talk about fiscal responsibility , ” xxmaj democratic xxup u.s. xxmaj representative xxmaj joseph xxmaj crowley said on xxup cbs . xxmaj crowley said the xxmaj republican tax bill would require the xxmaj united xxmaj states to borrow $ 1.5 trillion , to be paid off by future generations , to finance tax cuts for corporations and the rich . “ xxmaj this is one of the least ... fiscally responsible bills we ’ve ever seen passed in the history of the xxmaj house of xxmaj representatives . i think we ’re going to be paying for this for many , many years to come , ” xxmaj crowley said . xxmaj republicans insist the tax package , the biggest xxup u.s. tax overhaul in more than 30 years , will boost the economy and job growth . xxmaj house xxmaj speaker xxmaj paul xxmaj ryan , who also supported the tax bill , recently went further than xxmaj meadows , making clear in a radio interview that welfare or “ entitlement reform , ” as the party often calls it , would be a top xxmaj republican priority in 2018 . xxmaj in xxmaj republican parlance , “ entitlement ” programs mean food stamps , housing assistance , xxmaj medicare and xxmaj medicaid health insurance for the elderly , poor and disabled , as well as other programs created by xxmaj washington to assist the needy . xxmaj democrats seized on xxmaj ryan ’s early xxmaj december remarks , saying they showed xxmaj republicans would try to pay for their tax overhaul by seeking spending cuts for social programs . xxmaj but the goals of xxmaj house xxmaj republicans may have to take a back seat to the xxmaj senate , where the votes of some xxmaj democrats will be needed to approve a budget and prevent a government shutdown . xxmaj democrats will use their leverage in the xxmaj senate , which xxmaj republicans narrowly control , to defend both discretionary non - defense programs and social spending , while tackling the issue of the “ xxmaj dreamers , ” people brought illegally to the country as children . xxmaj trump in xxmaj september put a xxmaj march 2018 expiration date on the xxmaj deferred xxmaj action for xxmaj childhood xxmaj arrivals , or xxup daca , program , which protects the young immigrants from deportation and provides them with work permits . xxmaj the president has said in recent xxmaj twitter messages he wants funding for his proposed xxmaj mexican border wall and other immigration law changes in exchange for agreeing to help the xxmaj dreamers . xxmaj representative xxmaj debbie xxmaj dingell told xxup cbs she did not favor linking that issue to other policy objectives , such as wall funding . “ xxmaj we need to do xxup daca clean , ” she said . xxmaj on xxmaj wednesday , xxmaj trump aides will meet with congressional leaders to discuss those issues . xxmaj that will be followed by a weekend of strategy sessions for xxmaj trump and xxmaj republican leaders on xxmaj jan. 6 and 7 , the xxmaj white xxmaj house said . xxmaj trump was also scheduled to meet on xxmaj sunday with xxmaj florida xxmaj republican xxmaj governor xxmaj rick xxmaj scott , who wants more emergency aid . xxmaj the xxmaj house has passed an $ 81 billion aid package after hurricanes in xxmaj florida , xxmaj texas and xxmaj puerto xxmaj rico , and wildfires in xxmaj california . xxmaj the package far exceeded the $ 44 billion requested by the xxmaj trump administration . xxmaj the xxmaj senate has not yet voted on the aid .,xxbos d of a conservative xxmaj republican faction in the xxup u.s. xxmaj congress , who voted this month for a huge expansion of the national debt to pay for tax cuts , called himself a “ fiscal conservative ” on xxmaj sunday and urged budget restraint in 2018 . xxmaj in keeping with a sharp pivot under way among xxmaj republicans , xxup u.s. xxmaj representative xxmaj mark xxmaj meadows , speaking on xxup cbs ’ “ xxmaj face the xxmaj nation , ” drew a hard line on federal spending , which lawmakers are bracing to do battle over in xxmaj january . xxmaj when they return from the holidays on xxmaj wednesday , lawmakers will begin trying to pass a federal budget in a fight likely to be linked to other issues , such as immigration policy , even as the xxmaj november congressional election campaigns approach in which xxmaj republicans will seek to keep control of xxmaj congress . xxmaj president xxmaj donald xxmaj trump and his xxmaj republicans want a big budget increase in military spending , while xxmaj democrats also want proportional increases for non - defense “ discretionary ” spending on programs that support education , scientific research , infrastructure , public health and environmental protection . “ xxmaj the ( xxmaj trump ) administration has already been willing to say : ‘ xxmaj we ’re going to increase non - defense discretionary spending ... by about 7 percent , ’ ” xxmaj meadows , chairman of the small but influential xxmaj house xxmaj freedom xxmaj caucus , said on the program . “ xxmaj now , xxmaj democrats are saying that ’s not enough , we need to give the government a pay raise of 10 to 11 percent . xxmaj for a fiscal conservative , i do n’t see where the rationale is . ... xxmaj eventually you run out of other people ’s money , ” he said . xxmaj meadows was among xxmaj republicans who voted in late xxmaj december for their party ’s debt - financed tax overhaul , which is expected to balloon the federal budget deficit and add about $ 1.5 trillion over 10 years to the $ 20 trillion national debt . “ xxmaj it ’s interesting to hear xxmaj mark talk about fiscal responsibility , ” xxmaj democratic xxup u.s. xxmaj representative xxmaj joseph xxmaj crowley said on xxup cbs . xxmaj crowley said the xxmaj republican tax bill would require the xxmaj united xxmaj states to borrow $ 1.5 trillion , to be paid off by future generations , to finance tax cuts for corporations and the rich . “ xxmaj this is one of the least ... fiscally responsible bills we ’ve ever seen passed in the history of the xxmaj house of xxmaj representatives . i think we ’re going to be paying for this for many , many years to come , ” xxmaj crowley said . xxmaj republicans insist the tax package , the biggest xxup u.s. tax overhaul in more than 30 years , will boost the economy and job growth . xxmaj house xxmaj speaker xxmaj paul xxmaj ryan , who also supported the tax bill , recently went further than xxmaj meadows , making clear in a radio interview that welfare or “ entitlement reform , ” as the party often calls it , would be a top xxmaj republican priority in 2018 . xxmaj in xxmaj republican parlance , “ entitlement ” programs mean food stamps , housing assistance , xxmaj medicare and xxmaj medicaid health insurance for the elderly , poor and disabled , as well as other programs created by xxmaj washington to assist the needy . xxmaj democrats seized on xxmaj ryan ’s early xxmaj december remarks , saying they showed xxmaj republicans would try to pay for their tax overhaul by seeking spending cuts for social programs . xxmaj but the goals of xxmaj house xxmaj republicans may have to take a back seat to the xxmaj senate , where the votes of some xxmaj democrats will be needed to approve a budget and prevent a government shutdown . xxmaj democrats will use their leverage in the xxmaj senate , which xxmaj republicans narrowly control , to defend both discretionary non - defense programs and social spending , while tackling the issue of the “ xxmaj dreamers , ” people brought illegally to the country as children . xxmaj trump in xxmaj september put a xxmaj march 2018 expiration date on the xxmaj deferred xxmaj action for xxmaj childhood xxmaj arrivals , or xxup daca , program , which protects the young immigrants from deportation and provides them with work permits . xxmaj the president has said in recent xxmaj twitter messages he wants funding for his proposed xxmaj mexican border wall and other immigration law changes in exchange for agreeing to help the xxmaj dreamers . xxmaj representative xxmaj debbie xxmaj dingell told xxup cbs she did not favor linking that issue to other policy objectives , such as wall funding . “ xxmaj we need to do xxup daca clean , ” she said . xxmaj on xxmaj wednesday , xxmaj trump aides will meet with congressional leaders to discuss those issues . xxmaj that will be followed by a weekend of strategy sessions for xxmaj trump and xxmaj republican leaders on xxmaj jan. 6 and 7 , the xxmaj white xxmaj house said . xxmaj trump was also scheduled to meet on xxmaj sunday with xxmaj florida xxmaj republican xxmaj governor xxmaj rick xxmaj scott , who wants more emergency aid . xxmaj the xxmaj house has passed an $ 81 billion aid package after hurricanes in xxmaj florida , xxmaj texas and xxmaj puerto xxmaj rico , and wildfires in xxmaj california . xxmaj the package far exceeded the $ 44 billion requested by the xxmaj trump administration . xxmaj the xxmaj senate has not yet voted on the aid .,xxbos d of a conservative xxmaj republican faction in the xxup u.s. xxmaj congress , who voted this month for a huge expansion of the national debt to pay for tax cuts , called himself a “ fiscal conservative ” on xxmaj sunday and urged budget restraint in 2018 . xxmaj in keeping with a sharp pivot under way among xxmaj republicans , xxup u.s. xxmaj representative xxmaj mark xxmaj meadows , speaking on xxup cbs ’ “ xxmaj face the xxmaj nation , ” drew a hard line on federal spending , which lawmakers are bracing to do battle over in xxmaj january . xxmaj when they return from the holidays on xxmaj wednesday , lawmakers will begin trying to pass a federal budget in a fight likely to be linked to other issues , such as immigration policy , even as the xxmaj november congressional election campaigns approach in which xxmaj republicans will seek to keep control of xxmaj congress . xxmaj president xxmaj donald xxmaj trump and his xxmaj republicans want a big budget increase in military spending , while xxmaj democrats also want proportional increases for non - defense “ discretionary ” spending on programs that support education , scientific research , infrastructure , public health and environmental protection . “ xxmaj the ( xxmaj trump ) administration has already been willing to say : ‘ xxmaj we ’re going to increase non - defense discretionary spending ... by about 7 percent , ’ ” xxmaj meadows , chairman of the small but influential xxmaj house xxmaj freedom xxmaj caucus , said on the program . “ xxmaj now , xxmaj democrats are saying that ’s not enough , we need to give the government a pay raise of 10 to 11 percent . xxmaj for a fiscal conservative , i do n’t see where the rationale is . ... xxmaj eventually you run out of other people ’s money , ” he said . xxmaj meadows was among xxmaj republicans who voted in late xxmaj december for their party ’s debt - financed tax overhaul , which is expected to balloon the federal budget deficit and add about $ 1.5 trillion over 10 years to the $ 20 trillion national debt . “ xxmaj it ’s interesting to hear xxmaj mark talk about fiscal responsibility , ” xxmaj democratic xxup u.s. xxmaj representative xxmaj joseph xxmaj crowley said on xxup cbs . xxmaj crowley said the xxmaj republican tax bill would require the xxmaj united xxmaj states to borrow $ 1.5 trillion , to be paid off by future generations , to finance tax cuts for corporations and the rich . “ xxmaj this is one of the least ... fiscally responsible bills we ’ve ever seen passed in the history of the xxmaj house of xxmaj representatives . i think we ’re going to be paying for this for many , many years to come , ” xxmaj crowley said . xxmaj republicans insist the tax package , the biggest xxup u.s. tax overhaul in more than 30 years , will boost the economy and job growth . xxmaj house xxmaj speaker xxmaj paul xxmaj ryan , who also supported the tax bill , recently went further than xxmaj meadows , making clear in a radio interview that welfare or “ entitlement reform , ” as the party often calls it , would be a top xxmaj republican priority in 2018 . xxmaj in xxmaj republican parlance , “ entitlement ” programs mean food stamps , housing assistance , xxmaj medicare and xxmaj medicaid health insurance for the elderly , poor and disabled , as well as other programs created by xxmaj washington to assist the needy . xxmaj democrats seized on xxmaj ryan ’s early xxmaj december remarks , saying they showed xxmaj republicans would try to pay for their tax overhaul by seeking spending cuts for social programs . xxmaj but the goals of xxmaj house xxmaj republicans may have to take a back seat to the xxmaj senate , where the votes of some xxmaj democrats will be needed to approve a budget and prevent a government shutdown . xxmaj democrats will use their leverage in the xxmaj senate , which xxmaj republicans narrowly control , to defend both discretionary non - defense programs and social spending , while tackling the issue of the “ xxmaj dreamers , ” people brought illegally to the country as children . xxmaj trump in xxmaj september put a xxmaj march 2018 expiration date on the xxmaj deferred xxmaj action for xxmaj childhood xxmaj arrivals , or xxup daca , program , which protects the young immigrants from deportation and provides them with work permits . xxmaj the president has said in recent xxmaj twitter messages he wants funding for his proposed xxmaj mexican border wall and other immigration law changes in exchange for agreeing to help the xxmaj dreamers . xxmaj representative xxmaj debbie xxmaj dingell told xxup cbs she did not favor linking that issue to other policy objectives , such as wall funding . “ xxmaj we need to do xxup daca clean , ” she said . xxmaj on xxmaj wednesday , xxmaj trump aides will meet with congressional leaders to discuss those issues . xxmaj that will be followed by a weekend of strategy sessions for xxmaj trump and xxmaj republican leaders on xxmaj jan. 6 and 7 , the xxmaj white xxmaj house said . xxmaj trump was also scheduled to meet on xxmaj sunday with xxmaj florida xxmaj republican xxmaj governor xxmaj rick xxmaj scott , who wants more emergency aid . xxmaj the xxmaj house has passed an $ 81 billion aid package after hurricanes in xxmaj florida , xxmaj texas and xxmaj puerto xxmaj rico , and wildfires in xxmaj california . xxmaj the package far exceeded the $ 44 billion requested by the xxmaj trump administration . xxmaj the xxmaj senate has not yet voted on the aid .\n",
              "y: CategoryList\n",
              "0,0,0,0,0\n",
              "Path: /content/drive/My Drive/Colab Notebooks/Fake News Detection;\n",
              "\n",
              "Valid: LabelList (8979 items)\n",
              "x: TextList\n",
              "xxbos al opinion poll before xxmaj new xxmaj zealand s election on xxmaj saturday showed the ruling xxmaj national xxmaj party s lead over the opposition xxmaj labour xxmaj party had slipped to 8.5 points , meaning minor parties could well decide who forms the next government . xxmaj the xxmaj newshub - xxmaj reid survey released on xxmaj thursday showed support for xxmaj prime xxmaj minister xxmaj bill xxmaj english s xxmaj national xxmaj party had edged down 1.5 points to 45.8 percent , but support for xxmaj labour also fell , dropping 0.5 points to 37.3 percent . xxmaj the xxmaj national xxmaj party has governed for the past nine years , and its re - election would xxunk investors who favour continuity and like xxmaj national s vow to keep the small trading economy open to foreign investment . xxmaj regardless of the polls , which have shown sharp xxunk , the nationalist xxmaj new xxmaj zealand xxmaj first xxmaj party could well emerge as the kingmaker in the next parliament . xxmaj minor parties often have an outsize role in xxmaj new xxmaj zealand s proportional representation system , in which a party , or combination of parties , needs 61 of xxmaj parliament s 120 members - usually about 48 percent of the vote - to form a government . xxmaj the xxmaj newshub - xxmaj reid survey showed support for xxmaj new xxmaj zealand xxmaj first hitting 7.1 percent , as did support for the xxmaj green xxmaj party , which is a likely coalition partner for xxmaj labour . xxmaj the tight race , with xxmaj labour and the xxmaj green xxmaj party virtually neck - and - neck with xxmaj national , meant the government might not be known for weeks . xxmaj despite all of the volatility , despite all the twists and turns of the campaign , it has come back to that simple fact ... xxmaj new xxmaj zealand xxmaj first appears to be that crucial kingmaker , said xxmaj bryce xxmaj edwards , analyst at xxmaj wellington - based xxmaj critical xxmaj politics . xxmaj outspoken xxmaj new xxmaj zealand xxmaj first leader xxmaj winston xxmaj peters has said he will not confirm which bloc of parties he ll support until xxmaj october 12 when the results become official . xxmaj the election was so hotly - contested that the deciding votes might be those of overseas xxmaj new xxmaj zealanders , whose ballots would not be released until xxmaj oct. 7 . xxmaj these votes , as well as those from xxmaj new xxmaj zealanders who voted outside of their home area , accounted for around 12 percent of total ballots cast in the 2014 election , according to the xxmaj election xxmaj commission . xxmaj labour leader xxmaj jacinda xxmaj ardern said on xxmaj wednesday that citizens living in xxmaj australia , home to xxmaj new xxmaj zealand s largest diaspora , were very important to the election . xxmaj most xxmaj new xxmaj zealanders maintain a strong interest in the direction of the country , particularly when it comes to things like how we re grappling with international issues , trade issues , environmental issues - so please have your say , xxmaj ardern told the xxmaj australian xxmaj broadcasting xxmaj corporation . xxmaj the xxmaj new xxmaj zealand dollar - the word s 11th most traded currency in 2016 - briefly firmed to $ xxunk from $ xxunk after xxmaj thursday s opinion poll , but quickly gave up most of those gains and sank to $ xxunk .,xxbos xxup u.s. xxmaj senate were dealt another blow in their effort to repeal xxmaj obamacare on xxmaj friday when the keeper of the xxmaj senate ’s rules said certain provisions in their healthcare bill , such as defunding xxmaj planned xxmaj parenthood , could not be included . xxmaj the xxmaj senate parliamentarian determined some provisions in the xxmaj better xxmaj care xxmaj reconciliation xxmaj act violate the xxmaj byrd xxmaj rule that requires backers to be able to muster 60 votes , according to a memo posted on the xxmaj senate xxmaj committee on the xxmaj budget website . xxmaj republicans , who control the xxmaj senate with a slim 52-seat majority , are unlikely to be able to round up that many votes for key provisions in the bill to repeal former xxmaj president xxmaj barack xxmaj obama ’s xxmaj affordable xxmaj care xxmaj act known as xxmaj obamacare . xxmaj affected would be the provision to defund xxmaj planned xxmaj parenthood , two provisions to prevent certain tax credits from being used to purchase health insurance that covers abortion , and a provision stating that beginning in 2020 states no longer have to cover essential health benefits in their xxmaj medicaid alternative benefit plans . xxmaj some provisions were not subject to the xxmaj byrd xxmaj rule , according to the parliamentarian , including a provision allowing states the option to impose work requirements on xxmaj medicaid enrollees who are not disabled , elderly or pregnant , and a proposal to repeal cost - sharing subsidies . xxmaj other provisions were still under review , including a proposal to allow insurers to charge older xxmaj americans more than younger people , a provision to allow small businesses to establish “ association health plans ” that could be sold across state lines and the option for states to receive xxmaj medicaid “ block grant ” lump sums instead of per capita cap payments . xxmaj senate xxmaj majority xxmaj leader xxmaj mitch mcconnell is seeking to use procedural rules that would allow xxmaj republicans to pass a healthcare bill with a simple majority in the .,xxbos xxmaj the majority of the country doesn t want xxmaj donald xxmaj trump as our president . a - list celebrities and even marching bands don t want to perform at his inauguration . xxmaj and now , his former campaign manager and newest counselor xxmaj kellyanne xxmaj conway is finding out that private schools in the xxup d.c. area don t want her kids either . xxmaj conway said on xxmaj wednesday that she is more amused than worried over the fact that none of the top notch schools in xxmaj washington want to accept her children . i would not characterize myself as worried so much as amused by the silence and xxunk on the other end of the phone when friends and allies have made preliminary inquiries on my behalf , xxmaj conway told the xxmaj new xxmaj york xxmaj post . xxmaj conway then pointed out that many of these schools tout diversity in their xxunk . xxmaj for some , there is comfort in xxunk , she noted . xxmaj no wonder xxmaj trump likes her so much . xxmaj if i were an admissions counselor i d shy away from this too , but i digress . xxmaj nobody with any sense wants to be associated with xxmaj trump or his transition team in any way , shape , or form . xxmaj conway is known as a talented spin doctor who now spends her days trying to explain why the horrible things that come out of xxmaj trump s mouth ( or xxmaj twitter page ) couldn t possibly be as abhorrent as they seem on the surface . xxmaj conway said she has been shocked by the flood of people who have offered to help her and her family with their move to xxup d.c. , but top schools apparently aren t so eager . xxmaj according to the xxmaj post , a source close to xxmaj conway said that she is desperate and is asking everyone with connections to xxup d.c. schools for help . xxmaj whether or nor real estate agents in xxmaj washington will want to work with her remains to be seen , as when asked about the matter she simply replied : xxmaj first things first . xxmaj featured image via xxmaj drew xxmaj angerer / xxmaj getty xxmaj images,xxbos ropean capitals expect xxmaj british xxmaj prime xxmaj minister xxmaj theresa xxmaj may to try to break a deadlock in xxmaj brexit talks over the coming days by signaling a readiness to pay the xxup eu to stay in the single market for a time after it leaves the bloc . xxmaj senior officials dealing with xxmaj brexit in xxmaj brussels , xxmaj berlin and other capitals said they had not received any concrete overtures from xxmaj may ahead of a speech in xxmaj florence , xxmaj italy , on xxmaj friday , at which she is expected to flesh out her vision of xxmaj britain s future relationship with the xxmaj european xxmaj union . xxmaj and they played down a report in the xxmaj financial xxmaj times that her xxup eu adviser , xxmaj oliver xxmaj robbins , had informed xxmaj german xxmaj chancellor xxmaj angela xxmaj merkel and other leaders that xxmaj may could make an offer of 20 billion euros to cover a post - xxmaj brexit transition period . xxmaj we have not been informed in advance about any concrete negotiation offers from the xxmaj british government , a xxmaj german government spokesman said . xxmaj but the officials , speaking on condition of anonymity , said they had received signals from xxmaj london that xxmaj may would try to break a months - long impasse that has raised fears on either side of the xxmaj channel that xxmaj britain could exit the bloc in 2019 without a deal on its future xxup eu ties . xxmaj these officials said they expected xxmaj may to signal soon that she would like to keep xxmaj britain in the single market for two to three years and was prepared to pay for the access . xxmaj however , they were unsure whether it would come in the xxmaj florence speech or later possibly during new xxmaj brexit negotiations next xxmaj monday , in early xxmaj october when she addresses her xxmaj conservative xxmaj party conference or at upcoming xxup eu summits in the xxmaj estonian capital xxmaj tallinn or in xxmaj brussels . xxmaj staying for three years in the customs union and single market would mean paying for it and xxmaj britain realizes that . xxmaj the acceptance of payments during that period would be a very big thing , said one xxup eu official close to the negotiations . xxmaj he was among more than half a dozen people involved with the issue in continental xxmaj europe who spoke to xxmaj reuters on xxmaj wednesday . xxmaj other officials were cautious , however , expressing concern that xxmaj britain was conflating two separate issues : the cost of continued market access after xxmaj brexit and the bill xxmaj london first needs to pay to settle its existing financial commitments . xxmaj if everything in the financial settlement is not covered then it will be difficult to move forward , said one official in xxmaj berlin , referring to a delicate moment in the talks . xxmaj three months into negotiations on the terms of xxmaj britain s departure from the xxup eu , the two sides are struggling to resolve the issues xxmaj brussels says must be addressed before talks on a future trading relationship can begin . xxmaj these include expatriate citizens rights , the xxmaj irish border and the financial bill tied to xxmaj britain s departure . xxmaj the xxup eu executive has estimated that xxmaj london may owe it around 60 billion euros due to commitments made during xxmaj british membership . xxmaj with the clock ticking down to the xxmaj march 2019 exit date , xxmaj britain is keen to start talks on its future trade relationship with the bloc to remove the cloud of uncertainty for companies that do business between xxmaj britain and the rest of the xxup eu . xxmaj without such certainty , companies in xxmaj britain may choose to move their operations to an xxup eu state to enjoy access to its single market of 440 million people . xxmaj some have already announced such plans . xxmaj talks on the future relationship were initially expected to start in xxmaj october . xxmaj but the xxup eu s chief negotiator , xxmaj frenchman xxmaj michel xxmaj barnier , has said that looks unrealistic so far . xxmaj he will meet his xxmaj british counterpart again on xxmaj monday in xxmaj brussels . xxmaj european officials sent conflicting signals on xxmaj wednesday about whether an acknowledgement of xxmaj britain s financial obligations during a post - xxmaj brexit transition period might be enough to break the logjam and open the door to deeper talks . xxmaj one senior official in a government broadly sympathetic to xxmaj britain said any offer of payment from xxmaj may could be positive and that other xxup eu leaders understood that she might seek to mix comments on exit and transition payments as a way to distract pro - xxmaj brexit voters at home away from concessions she might make . xxmaj the sense of reality has not yet arrived , a third senior xxup eu official said . xxmaj if i were xxmaj mrs xxmaj may i would make now a very , very clear offer , i would show my readiness . i m sure xxmaj may will give a nice speech in xxmaj florence , a second xxmaj german official added . xxmaj but what really counts is what the xxmaj british put on the table in xxmaj brussels on xxmaj monday .,xxbos xxup language xxup alert : xxmaj welfare xxmaj queen : xxmaj get out of here , b*tch . xxmaj f*ck the government . xxmaj f*ck xxmaj trump . i m gon na rape that sh*t sitting on my a$$ xxmaj guess what ? xxmaj this b*tch is doing better than you , b*tch . xxmaj you re on your feet all day b*tch . xxmaj all day xxmaj get the f*ck out of here . xxmaj you go and work . i ll sit on my a$$ while you go and work . xxup this xxup woman xxup should xxup be xxup tossed xxup in xxup jail xxmaj the hardworking xxmaj american taxpayers are supporting this horrible woman . xxmaj if xxmaj trump does anything at all , he should crack down on the freebies given to people like this . a single woman can make more money by just sitting around han she can if she works ! xxmaj there s something wrong with the system and it needs to be fixed xxunk government has incentivized having children because these single mothers get more government money per child . xxmaj we ve looked at the state of xxmaj new xxmaj york and here s what we found : xxup financial xxup help xxup for xxup single xxup mothers xxup in xxup ny xxup state : xxup ny xxup family xxup assistance xxup cash xxup payment xxup of $ xxunk xxup per xxup xxunk xxup stamps xxup up xxup to $ 1200 a xxup month xxup depending xxup on xxup number xxup in xxup xxunk xxup and xxup child xxup health xxup xxunk xxup another xxup food xxup xxunk xxup and xxup xxunk xxup food xxup care xxup program xxup provides xxup meals xxup for xxup kids xxup in xxup xxunk xxup child xxup xxunk xxup free xxup or xxup low - xxup cost xxup xxunk xxup pre - k xxup xxunk 8 xxup xxunk xxup insurance xxup for 26 xxup xxunk xxup assistance xxup up xxup to $ xxunk about covers it most states provide these freebies . xxmaj is it any wonder people are cradle to grave on assistance ? xxmaj the government has made this a crutch but at whose expense ? xxmaj if you guessed the taxpayers , you d be right ! xxmaj the culture surrounding these freebies makes people feel entitled to them . xxmaj why not ? xxmaj they don t even think about you or your sacrifices it s a sick dependency that needs to end . xxmaj welfare reform xxup now !\n",
              "y: CategoryList\n",
              "0,0,1,0,1\n",
              "Path: /content/drive/My Drive/Colab Notebooks/Fake News Detection;\n",
              "\n",
              "Test: None, model=SequentialRNN(\n",
              "  (0): MultiBatchEncoder(\n",
              "    (module): AWD_LSTM(\n",
              "      (encoder): Embedding(56680, 400, padding_idx=1)\n",
              "      (encoder_dp): EmbeddingDropout(\n",
              "        (emb): Embedding(56680, 400, padding_idx=1)\n",
              "      )\n",
              "      (rnns): ModuleList(\n",
              "        (0): WeightDropout(\n",
              "          (module): LSTM(400, 1152, batch_first=True)\n",
              "        )\n",
              "        (1): WeightDropout(\n",
              "          (module): LSTM(1152, 1152, batch_first=True)\n",
              "        )\n",
              "        (2): WeightDropout(\n",
              "          (module): LSTM(1152, 400, batch_first=True)\n",
              "        )\n",
              "      )\n",
              "      (input_dp): RNNDropout()\n",
              "      (hidden_dps): ModuleList(\n",
              "        (0): RNNDropout()\n",
              "        (1): RNNDropout()\n",
              "        (2): RNNDropout()\n",
              "      )\n",
              "    )\n",
              "  )\n",
              "  (1): PoolingLinearClassifier(\n",
              "    (layers): Sequential(\n",
              "      (0): BatchNorm1d(1200, eps=1e-05, momentum=0.1, affine=True, track_running_stats=True)\n",
              "      (1): Dropout(p=0.2, inplace=False)\n",
              "      (2): Linear(in_features=1200, out_features=50, bias=True)\n",
              "      (3): ReLU(inplace=True)\n",
              "      (4): BatchNorm1d(50, eps=1e-05, momentum=0.1, affine=True, track_running_stats=True)\n",
              "      (5): Dropout(p=0.1, inplace=False)\n",
              "      (6): Linear(in_features=50, out_features=2, bias=True)\n",
              "    )\n",
              "  )\n",
              "), opt_func=functools.partial(<class 'torch.optim.adam.Adam'>, betas=(0.9, 0.99)), loss_func=FlattenedLoss of CrossEntropyLoss(), metrics=[<function error_rate at 0x7f8feb8e5bf8>], true_wd=True, bn_wd=True, wd=0.01, train_bn=True, path=PosixPath('/content/drive/My Drive/Colab Notebooks/Fake News Detection'), model_dir='models', callback_fns=[functools.partial(<class 'fastai.basic_train.Recorder'>, add_time=True, silent=False)], callbacks=[RNNTrainer\n",
              "learn: RNNLearner(data=TextClasDataBunch;\n",
              "\n",
              "Train: LabelList (35918 items)\n",
              "x: TextList\n",
              "xxbos d of a conservative xxmaj republican faction in the xxup u.s. xxmaj congress , who voted this month for a huge expansion of the national debt to pay for tax cuts , called himself a “ fiscal conservative ” on xxmaj sunday and urged budget restraint in 2018 . xxmaj in keeping with a sharp pivot under way among xxmaj republicans , xxup u.s. xxmaj representative xxmaj mark xxmaj meadows , speaking on xxup cbs ’ “ xxmaj face the xxmaj nation , ” drew a hard line on federal spending , which lawmakers are bracing to do battle over in xxmaj january . xxmaj when they return from the holidays on xxmaj wednesday , lawmakers will begin trying to pass a federal budget in a fight likely to be linked to other issues , such as immigration policy , even as the xxmaj november congressional election campaigns approach in which xxmaj republicans will seek to keep control of xxmaj congress . xxmaj president xxmaj donald xxmaj trump and his xxmaj republicans want a big budget increase in military spending , while xxmaj democrats also want proportional increases for non - defense “ discretionary ” spending on programs that support education , scientific research , infrastructure , public health and environmental protection . “ xxmaj the ( xxmaj trump ) administration has already been willing to say : ‘ xxmaj we ’re going to increase non - defense discretionary spending ... by about 7 percent , ’ ” xxmaj meadows , chairman of the small but influential xxmaj house xxmaj freedom xxmaj caucus , said on the program . “ xxmaj now , xxmaj democrats are saying that ’s not enough , we need to give the government a pay raise of 10 to 11 percent . xxmaj for a fiscal conservative , i do n’t see where the rationale is . ... xxmaj eventually you run out of other people ’s money , ” he said . xxmaj meadows was among xxmaj republicans who voted in late xxmaj december for their party ’s debt - financed tax overhaul , which is expected to balloon the federal budget deficit and add about $ 1.5 trillion over 10 years to the $ 20 trillion national debt . “ xxmaj it ’s interesting to hear xxmaj mark talk about fiscal responsibility , ” xxmaj democratic xxup u.s. xxmaj representative xxmaj joseph xxmaj crowley said on xxup cbs . xxmaj crowley said the xxmaj republican tax bill would require the xxmaj united xxmaj states to borrow $ 1.5 trillion , to be paid off by future generations , to finance tax cuts for corporations and the rich . “ xxmaj this is one of the least ... fiscally responsible bills we ’ve ever seen passed in the history of the xxmaj house of xxmaj representatives . i think we ’re going to be paying for this for many , many years to come , ” xxmaj crowley said . xxmaj republicans insist the tax package , the biggest xxup u.s. tax overhaul in more than 30 years , will boost the economy and job growth . xxmaj house xxmaj speaker xxmaj paul xxmaj ryan , who also supported the tax bill , recently went further than xxmaj meadows , making clear in a radio interview that welfare or “ entitlement reform , ” as the party often calls it , would be a top xxmaj republican priority in 2018 . xxmaj in xxmaj republican parlance , “ entitlement ” programs mean food stamps , housing assistance , xxmaj medicare and xxmaj medicaid health insurance for the elderly , poor and disabled , as well as other programs created by xxmaj washington to assist the needy . xxmaj democrats seized on xxmaj ryan ’s early xxmaj december remarks , saying they showed xxmaj republicans would try to pay for their tax overhaul by seeking spending cuts for social programs . xxmaj but the goals of xxmaj house xxmaj republicans may have to take a back seat to the xxmaj senate , where the votes of some xxmaj democrats will be needed to approve a budget and prevent a government shutdown . xxmaj democrats will use their leverage in the xxmaj senate , which xxmaj republicans narrowly control , to defend both discretionary non - defense programs and social spending , while tackling the issue of the “ xxmaj dreamers , ” people brought illegally to the country as children . xxmaj trump in xxmaj september put a xxmaj march 2018 expiration date on the xxmaj deferred xxmaj action for xxmaj childhood xxmaj arrivals , or xxup daca , program , which protects the young immigrants from deportation and provides them with work permits . xxmaj the president has said in recent xxmaj twitter messages he wants funding for his proposed xxmaj mexican border wall and other immigration law changes in exchange for agreeing to help the xxmaj dreamers . xxmaj representative xxmaj debbie xxmaj dingell told xxup cbs she did not favor linking that issue to other policy objectives , such as wall funding . “ xxmaj we need to do xxup daca clean , ” she said . xxmaj on xxmaj wednesday , xxmaj trump aides will meet with congressional leaders to discuss those issues . xxmaj that will be followed by a weekend of strategy sessions for xxmaj trump and xxmaj republican leaders on xxmaj jan. 6 and 7 , the xxmaj white xxmaj house said . xxmaj trump was also scheduled to meet on xxmaj sunday with xxmaj florida xxmaj republican xxmaj governor xxmaj rick xxmaj scott , who wants more emergency aid . xxmaj the xxmaj house has passed an $ 81 billion aid package after hurricanes in xxmaj florida , xxmaj texas and xxmaj puerto xxmaj rico , and wildfires in xxmaj california . xxmaj the package far exceeded the $ 44 billion requested by the xxmaj trump administration . xxmaj the xxmaj senate has not yet voted on the aid .,xxbos d of a conservative xxmaj republican faction in the xxup u.s. xxmaj congress , who voted this month for a huge expansion of the national debt to pay for tax cuts , called himself a “ fiscal conservative ” on xxmaj sunday and urged budget restraint in 2018 . xxmaj in keeping with a sharp pivot under way among xxmaj republicans , xxup u.s. xxmaj representative xxmaj mark xxmaj meadows , speaking on xxup cbs ’ “ xxmaj face the xxmaj nation , ” drew a hard line on federal spending , which lawmakers are bracing to do battle over in xxmaj january . xxmaj when they return from the holidays on xxmaj wednesday , lawmakers will begin trying to pass a federal budget in a fight likely to be linked to other issues , such as immigration policy , even as the xxmaj november congressional election campaigns approach in which xxmaj republicans will seek to keep control of xxmaj congress . xxmaj president xxmaj donald xxmaj trump and his xxmaj republicans want a big budget increase in military spending , while xxmaj democrats also want proportional increases for non - defense “ discretionary ” spending on programs that support education , scientific research , infrastructure , public health and environmental protection . “ xxmaj the ( xxmaj trump ) administration has already been willing to say : ‘ xxmaj we ’re going to increase non - defense discretionary spending ... by about 7 percent , ’ ” xxmaj meadows , chairman of the small but influential xxmaj house xxmaj freedom xxmaj caucus , said on the program . “ xxmaj now , xxmaj democrats are saying that ’s not enough , we need to give the government a pay raise of 10 to 11 percent . xxmaj for a fiscal conservative , i do n’t see where the rationale is . ... xxmaj eventually you run out of other people ’s money , ” he said . xxmaj meadows was among xxmaj republicans who voted in late xxmaj december for their party ’s debt - financed tax overhaul , which is expected to balloon the federal budget deficit and add about $ 1.5 trillion over 10 years to the $ 20 trillion national debt . “ xxmaj it ’s interesting to hear xxmaj mark talk about fiscal responsibility , ” xxmaj democratic xxup u.s. xxmaj representative xxmaj joseph xxmaj crowley said on xxup cbs . xxmaj crowley said the xxmaj republican tax bill would require the xxmaj united xxmaj states to borrow $ 1.5 trillion , to be paid off by future generations , to finance tax cuts for corporations and the rich . “ xxmaj this is one of the least ... fiscally responsible bills we ’ve ever seen passed in the history of the xxmaj house of xxmaj representatives . i think we ’re going to be paying for this for many , many years to come , ” xxmaj crowley said . xxmaj republicans insist the tax package , the biggest xxup u.s. tax overhaul in more than 30 years , will boost the economy and job growth . xxmaj house xxmaj speaker xxmaj paul xxmaj ryan , who also supported the tax bill , recently went further than xxmaj meadows , making clear in a radio interview that welfare or “ entitlement reform , ” as the party often calls it , would be a top xxmaj republican priority in 2018 . xxmaj in xxmaj republican parlance , “ entitlement ” programs mean food stamps , housing assistance , xxmaj medicare and xxmaj medicaid health insurance for the elderly , poor and disabled , as well as other programs created by xxmaj washington to assist the needy . xxmaj democrats seized on xxmaj ryan ’s early xxmaj december remarks , saying they showed xxmaj republicans would try to pay for their tax overhaul by seeking spending cuts for social programs . xxmaj but the goals of xxmaj house xxmaj republicans may have to take a back seat to the xxmaj senate , where the votes of some xxmaj democrats will be needed to approve a budget and prevent a government shutdown . xxmaj democrats will use their leverage in the xxmaj senate , which xxmaj republicans narrowly control , to defend both discretionary non - defense programs and social spending , while tackling the issue of the “ xxmaj dreamers , ” people brought illegally to the country as children . xxmaj trump in xxmaj september put a xxmaj march 2018 expiration date on the xxmaj deferred xxmaj action for xxmaj childhood xxmaj arrivals , or xxup daca , program , which protects the young immigrants from deportation and provides them with work permits . xxmaj the president has said in recent xxmaj twitter messages he wants funding for his proposed xxmaj mexican border wall and other immigration law changes in exchange for agreeing to help the xxmaj dreamers . xxmaj representative xxmaj debbie xxmaj dingell told xxup cbs she did not favor linking that issue to other policy objectives , such as wall funding . “ xxmaj we need to do xxup daca clean , ” she said . xxmaj on xxmaj wednesday , xxmaj trump aides will meet with congressional leaders to discuss those issues . xxmaj that will be followed by a weekend of strategy sessions for xxmaj trump and xxmaj republican leaders on xxmaj jan. 6 and 7 , the xxmaj white xxmaj house said . xxmaj trump was also scheduled to meet on xxmaj sunday with xxmaj florida xxmaj republican xxmaj governor xxmaj rick xxmaj scott , who wants more emergency aid . xxmaj the xxmaj house has passed an $ 81 billion aid package after hurricanes in xxmaj florida , xxmaj texas and xxmaj puerto xxmaj rico , and wildfires in xxmaj california . xxmaj the package far exceeded the $ 44 billion requested by the xxmaj trump administration . xxmaj the xxmaj senate has not yet voted on the aid .,xxbos d of a conservative xxmaj republican faction in the xxup u.s. xxmaj congress , who voted this month for a huge expansion of the national debt to pay for tax cuts , called himself a “ fiscal conservative ” on xxmaj sunday and urged budget restraint in 2018 . xxmaj in keeping with a sharp pivot under way among xxmaj republicans , xxup u.s. xxmaj representative xxmaj mark xxmaj meadows , speaking on xxup cbs ’ “ xxmaj face the xxmaj nation , ” drew a hard line on federal spending , which lawmakers are bracing to do battle over in xxmaj january . xxmaj when they return from the holidays on xxmaj wednesday , lawmakers will begin trying to pass a federal budget in a fight likely to be linked to other issues , such as immigration policy , even as the xxmaj november congressional election campaigns approach in which xxmaj republicans will seek to keep control of xxmaj congress . xxmaj president xxmaj donald xxmaj trump and his xxmaj republicans want a big budget increase in military spending , while xxmaj democrats also want proportional increases for non - defense “ discretionary ” spending on programs that support education , scientific research , infrastructure , public health and environmental protection . “ xxmaj the ( xxmaj trump ) administration has already been willing to say : ‘ xxmaj we ’re going to increase non - defense discretionary spending ... by about 7 percent , ’ ” xxmaj meadows , chairman of the small but influential xxmaj house xxmaj freedom xxmaj caucus , said on the program . “ xxmaj now , xxmaj democrats are saying that ’s not enough , we need to give the government a pay raise of 10 to 11 percent . xxmaj for a fiscal conservative , i do n’t see where the rationale is . ... xxmaj eventually you run out of other people ’s money , ” he said . xxmaj meadows was among xxmaj republicans who voted in late xxmaj december for their party ’s debt - financed tax overhaul , which is expected to balloon the federal budget deficit and add about $ 1.5 trillion over 10 years to the $ 20 trillion national debt . “ xxmaj it ’s interesting to hear xxmaj mark talk about fiscal responsibility , ” xxmaj democratic xxup u.s. xxmaj representative xxmaj joseph xxmaj crowley said on xxup cbs . xxmaj crowley said the xxmaj republican tax bill would require the xxmaj united xxmaj states to borrow $ 1.5 trillion , to be paid off by future generations , to finance tax cuts for corporations and the rich . “ xxmaj this is one of the least ... fiscally responsible bills we ’ve ever seen passed in the history of the xxmaj house of xxmaj representatives . i think we ’re going to be paying for this for many , many years to come , ” xxmaj crowley said . xxmaj republicans insist the tax package , the biggest xxup u.s. tax overhaul in more than 30 years , will boost the economy and job growth . xxmaj house xxmaj speaker xxmaj paul xxmaj ryan , who also supported the tax bill , recently went further than xxmaj meadows , making clear in a radio interview that welfare or “ entitlement reform , ” as the party often calls it , would be a top xxmaj republican priority in 2018 . xxmaj in xxmaj republican parlance , “ entitlement ” programs mean food stamps , housing assistance , xxmaj medicare and xxmaj medicaid health insurance for the elderly , poor and disabled , as well as other programs created by xxmaj washington to assist the needy . xxmaj democrats seized on xxmaj ryan ’s early xxmaj december remarks , saying they showed xxmaj republicans would try to pay for their tax overhaul by seeking spending cuts for social programs . xxmaj but the goals of xxmaj house xxmaj republicans may have to take a back seat to the xxmaj senate , where the votes of some xxmaj democrats will be needed to approve a budget and prevent a government shutdown . xxmaj democrats will use their leverage in the xxmaj senate , which xxmaj republicans narrowly control , to defend both discretionary non - defense programs and social spending , while tackling the issue of the “ xxmaj dreamers , ” people brought illegally to the country as children . xxmaj trump in xxmaj september put a xxmaj march 2018 expiration date on the xxmaj deferred xxmaj action for xxmaj childhood xxmaj arrivals , or xxup daca , program , which protects the young immigrants from deportation and provides them with work permits . xxmaj the president has said in recent xxmaj twitter messages he wants funding for his proposed xxmaj mexican border wall and other immigration law changes in exchange for agreeing to help the xxmaj dreamers . xxmaj representative xxmaj debbie xxmaj dingell told xxup cbs she did not favor linking that issue to other policy objectives , such as wall funding . “ xxmaj we need to do xxup daca clean , ” she said . xxmaj on xxmaj wednesday , xxmaj trump aides will meet with congressional leaders to discuss those issues . xxmaj that will be followed by a weekend of strategy sessions for xxmaj trump and xxmaj republican leaders on xxmaj jan. 6 and 7 , the xxmaj white xxmaj house said . xxmaj trump was also scheduled to meet on xxmaj sunday with xxmaj florida xxmaj republican xxmaj governor xxmaj rick xxmaj scott , who wants more emergency aid . xxmaj the xxmaj house has passed an $ 81 billion aid package after hurricanes in xxmaj florida , xxmaj texas and xxmaj puerto xxmaj rico , and wildfires in xxmaj california . xxmaj the package far exceeded the $ 44 billion requested by the xxmaj trump administration . xxmaj the xxmaj senate has not yet voted on the aid .,xxbos d of a conservative xxmaj republican faction in the xxup u.s. xxmaj congress , who voted this month for a huge expansion of the national debt to pay for tax cuts , called himself a “ fiscal conservative ” on xxmaj sunday and urged budget restraint in 2018 . xxmaj in keeping with a sharp pivot under way among xxmaj republicans , xxup u.s. xxmaj representative xxmaj mark xxmaj meadows , speaking on xxup cbs ’ “ xxmaj face the xxmaj nation , ” drew a hard line on federal spending , which lawmakers are bracing to do battle over in xxmaj january . xxmaj when they return from the holidays on xxmaj wednesday , lawmakers will begin trying to pass a federal budget in a fight likely to be linked to other issues , such as immigration policy , even as the xxmaj november congressional election campaigns approach in which xxmaj republicans will seek to keep control of xxmaj congress . xxmaj president xxmaj donald xxmaj trump and his xxmaj republicans want a big budget increase in military spending , while xxmaj democrats also want proportional increases for non - defense “ discretionary ” spending on programs that support education , scientific research , infrastructure , public health and environmental protection . “ xxmaj the ( xxmaj trump ) administration has already been willing to say : ‘ xxmaj we ’re going to increase non - defense discretionary spending ... by about 7 percent , ’ ” xxmaj meadows , chairman of the small but influential xxmaj house xxmaj freedom xxmaj caucus , said on the program . “ xxmaj now , xxmaj democrats are saying that ’s not enough , we need to give the government a pay raise of 10 to 11 percent . xxmaj for a fiscal conservative , i do n’t see where the rationale is . ... xxmaj eventually you run out of other people ’s money , ” he said . xxmaj meadows was among xxmaj republicans who voted in late xxmaj december for their party ’s debt - financed tax overhaul , which is expected to balloon the federal budget deficit and add about $ 1.5 trillion over 10 years to the $ 20 trillion national debt . “ xxmaj it ’s interesting to hear xxmaj mark talk about fiscal responsibility , ” xxmaj democratic xxup u.s. xxmaj representative xxmaj joseph xxmaj crowley said on xxup cbs . xxmaj crowley said the xxmaj republican tax bill would require the xxmaj united xxmaj states to borrow $ 1.5 trillion , to be paid off by future generations , to finance tax cuts for corporations and the rich . “ xxmaj this is one of the least ... fiscally responsible bills we ’ve ever seen passed in the history of the xxmaj house of xxmaj representatives . i think we ’re going to be paying for this for many , many years to come , ” xxmaj crowley said . xxmaj republicans insist the tax package , the biggest xxup u.s. tax overhaul in more than 30 years , will boost the economy and job growth . xxmaj house xxmaj speaker xxmaj paul xxmaj ryan , who also supported the tax bill , recently went further than xxmaj meadows , making clear in a radio interview that welfare or “ entitlement reform , ” as the party often calls it , would be a top xxmaj republican priority in 2018 . xxmaj in xxmaj republican parlance , “ entitlement ” programs mean food stamps , housing assistance , xxmaj medicare and xxmaj medicaid health insurance for the elderly , poor and disabled , as well as other programs created by xxmaj washington to assist the needy . xxmaj democrats seized on xxmaj ryan ’s early xxmaj december remarks , saying they showed xxmaj republicans would try to pay for their tax overhaul by seeking spending cuts for social programs . xxmaj but the goals of xxmaj house xxmaj republicans may have to take a back seat to the xxmaj senate , where the votes of some xxmaj democrats will be needed to approve a budget and prevent a government shutdown . xxmaj democrats will use their leverage in the xxmaj senate , which xxmaj republicans narrowly control , to defend both discretionary non - defense programs and social spending , while tackling the issue of the “ xxmaj dreamers , ” people brought illegally to the country as children . xxmaj trump in xxmaj september put a xxmaj march 2018 expiration date on the xxmaj deferred xxmaj action for xxmaj childhood xxmaj arrivals , or xxup daca , program , which protects the young immigrants from deportation and provides them with work permits . xxmaj the president has said in recent xxmaj twitter messages he wants funding for his proposed xxmaj mexican border wall and other immigration law changes in exchange for agreeing to help the xxmaj dreamers . xxmaj representative xxmaj debbie xxmaj dingell told xxup cbs she did not favor linking that issue to other policy objectives , such as wall funding . “ xxmaj we need to do xxup daca clean , ” she said . xxmaj on xxmaj wednesday , xxmaj trump aides will meet with congressional leaders to discuss those issues . xxmaj that will be followed by a weekend of strategy sessions for xxmaj trump and xxmaj republican leaders on xxmaj jan. 6 and 7 , the xxmaj white xxmaj house said . xxmaj trump was also scheduled to meet on xxmaj sunday with xxmaj florida xxmaj republican xxmaj governor xxmaj rick xxmaj scott , who wants more emergency aid . xxmaj the xxmaj house has passed an $ 81 billion aid package after hurricanes in xxmaj florida , xxmaj texas and xxmaj puerto xxmaj rico , and wildfires in xxmaj california . xxmaj the package far exceeded the $ 44 billion requested by the xxmaj trump administration . xxmaj the xxmaj senate has not yet voted on the aid .,xxbos d of a conservative xxmaj republican faction in the xxup u.s. xxmaj congress , who voted this month for a huge expansion of the national debt to pay for tax cuts , called himself a “ fiscal conservative ” on xxmaj sunday and urged budget restraint in 2018 . xxmaj in keeping with a sharp pivot under way among xxmaj republicans , xxup u.s. xxmaj representative xxmaj mark xxmaj meadows , speaking on xxup cbs ’ “ xxmaj face the xxmaj nation , ” drew a hard line on federal spending , which lawmakers are bracing to do battle over in xxmaj january . xxmaj when they return from the holidays on xxmaj wednesday , lawmakers will begin trying to pass a federal budget in a fight likely to be linked to other issues , such as immigration policy , even as the xxmaj november congressional election campaigns approach in which xxmaj republicans will seek to keep control of xxmaj congress . xxmaj president xxmaj donald xxmaj trump and his xxmaj republicans want a big budget increase in military spending , while xxmaj democrats also want proportional increases for non - defense “ discretionary ” spending on programs that support education , scientific research , infrastructure , public health and environmental protection . “ xxmaj the ( xxmaj trump ) administration has already been willing to say : ‘ xxmaj we ’re going to increase non - defense discretionary spending ... by about 7 percent , ’ ” xxmaj meadows , chairman of the small but influential xxmaj house xxmaj freedom xxmaj caucus , said on the program . “ xxmaj now , xxmaj democrats are saying that ’s not enough , we need to give the government a pay raise of 10 to 11 percent . xxmaj for a fiscal conservative , i do n’t see where the rationale is . ... xxmaj eventually you run out of other people ’s money , ” he said . xxmaj meadows was among xxmaj republicans who voted in late xxmaj december for their party ’s debt - financed tax overhaul , which is expected to balloon the federal budget deficit and add about $ 1.5 trillion over 10 years to the $ 20 trillion national debt . “ xxmaj it ’s interesting to hear xxmaj mark talk about fiscal responsibility , ” xxmaj democratic xxup u.s. xxmaj representative xxmaj joseph xxmaj crowley said on xxup cbs . xxmaj crowley said the xxmaj republican tax bill would require the xxmaj united xxmaj states to borrow $ 1.5 trillion , to be paid off by future generations , to finance tax cuts for corporations and the rich . “ xxmaj this is one of the least ... fiscally responsible bills we ’ve ever seen passed in the history of the xxmaj house of xxmaj representatives . i think we ’re going to be paying for this for many , many years to come , ” xxmaj crowley said . xxmaj republicans insist the tax package , the biggest xxup u.s. tax overhaul in more than 30 years , will boost the economy and job growth . xxmaj house xxmaj speaker xxmaj paul xxmaj ryan , who also supported the tax bill , recently went further than xxmaj meadows , making clear in a radio interview that welfare or “ entitlement reform , ” as the party often calls it , would be a top xxmaj republican priority in 2018 . xxmaj in xxmaj republican parlance , “ entitlement ” programs mean food stamps , housing assistance , xxmaj medicare and xxmaj medicaid health insurance for the elderly , poor and disabled , as well as other programs created by xxmaj washington to assist the needy . xxmaj democrats seized on xxmaj ryan ’s early xxmaj december remarks , saying they showed xxmaj republicans would try to pay for their tax overhaul by seeking spending cuts for social programs . xxmaj but the goals of xxmaj house xxmaj republicans may have to take a back seat to the xxmaj senate , where the votes of some xxmaj democrats will be needed to approve a budget and prevent a government shutdown . xxmaj democrats will use their leverage in the xxmaj senate , which xxmaj republicans narrowly control , to defend both discretionary non - defense programs and social spending , while tackling the issue of the “ xxmaj dreamers , ” people brought illegally to the country as children . xxmaj trump in xxmaj september put a xxmaj march 2018 expiration date on the xxmaj deferred xxmaj action for xxmaj childhood xxmaj arrivals , or xxup daca , program , which protects the young immigrants from deportation and provides them with work permits . xxmaj the president has said in recent xxmaj twitter messages he wants funding for his proposed xxmaj mexican border wall and other immigration law changes in exchange for agreeing to help the xxmaj dreamers . xxmaj representative xxmaj debbie xxmaj dingell told xxup cbs she did not favor linking that issue to other policy objectives , such as wall funding . “ xxmaj we need to do xxup daca clean , ” she said . xxmaj on xxmaj wednesday , xxmaj trump aides will meet with congressional leaders to discuss those issues . xxmaj that will be followed by a weekend of strategy sessions for xxmaj trump and xxmaj republican leaders on xxmaj jan. 6 and 7 , the xxmaj white xxmaj house said . xxmaj trump was also scheduled to meet on xxmaj sunday with xxmaj florida xxmaj republican xxmaj governor xxmaj rick xxmaj scott , who wants more emergency aid . xxmaj the xxmaj house has passed an $ 81 billion aid package after hurricanes in xxmaj florida , xxmaj texas and xxmaj puerto xxmaj rico , and wildfires in xxmaj california . xxmaj the package far exceeded the $ 44 billion requested by the xxmaj trump administration . xxmaj the xxmaj senate has not yet voted on the aid .\n",
              "y: CategoryList\n",
              "0,0,0,0,0\n",
              "Path: /content/drive/My Drive/Colab Notebooks/Fake News Detection;\n",
              "\n",
              "Valid: LabelList (8979 items)\n",
              "x: TextList\n",
              "xxbos al opinion poll before xxmaj new xxmaj zealand s election on xxmaj saturday showed the ruling xxmaj national xxmaj party s lead over the opposition xxmaj labour xxmaj party had slipped to 8.5 points , meaning minor parties could well decide who forms the next government . xxmaj the xxmaj newshub - xxmaj reid survey released on xxmaj thursday showed support for xxmaj prime xxmaj minister xxmaj bill xxmaj english s xxmaj national xxmaj party had edged down 1.5 points to 45.8 percent , but support for xxmaj labour also fell , dropping 0.5 points to 37.3 percent . xxmaj the xxmaj national xxmaj party has governed for the past nine years , and its re - election would xxunk investors who favour continuity and like xxmaj national s vow to keep the small trading economy open to foreign investment . xxmaj regardless of the polls , which have shown sharp xxunk , the nationalist xxmaj new xxmaj zealand xxmaj first xxmaj party could well emerge as the kingmaker in the next parliament . xxmaj minor parties often have an outsize role in xxmaj new xxmaj zealand s proportional representation system , in which a party , or combination of parties , needs 61 of xxmaj parliament s 120 members - usually about 48 percent of the vote - to form a government . xxmaj the xxmaj newshub - xxmaj reid survey showed support for xxmaj new xxmaj zealand xxmaj first hitting 7.1 percent , as did support for the xxmaj green xxmaj party , which is a likely coalition partner for xxmaj labour . xxmaj the tight race , with xxmaj labour and the xxmaj green xxmaj party virtually neck - and - neck with xxmaj national , meant the government might not be known for weeks . xxmaj despite all of the volatility , despite all the twists and turns of the campaign , it has come back to that simple fact ... xxmaj new xxmaj zealand xxmaj first appears to be that crucial kingmaker , said xxmaj bryce xxmaj edwards , analyst at xxmaj wellington - based xxmaj critical xxmaj politics . xxmaj outspoken xxmaj new xxmaj zealand xxmaj first leader xxmaj winston xxmaj peters has said he will not confirm which bloc of parties he ll support until xxmaj october 12 when the results become official . xxmaj the election was so hotly - contested that the deciding votes might be those of overseas xxmaj new xxmaj zealanders , whose ballots would not be released until xxmaj oct. 7 . xxmaj these votes , as well as those from xxmaj new xxmaj zealanders who voted outside of their home area , accounted for around 12 percent of total ballots cast in the 2014 election , according to the xxmaj election xxmaj commission . xxmaj labour leader xxmaj jacinda xxmaj ardern said on xxmaj wednesday that citizens living in xxmaj australia , home to xxmaj new xxmaj zealand s largest diaspora , were very important to the election . xxmaj most xxmaj new xxmaj zealanders maintain a strong interest in the direction of the country , particularly when it comes to things like how we re grappling with international issues , trade issues , environmental issues - so please have your say , xxmaj ardern told the xxmaj australian xxmaj broadcasting xxmaj corporation . xxmaj the xxmaj new xxmaj zealand dollar - the word s 11th most traded currency in 2016 - briefly firmed to $ xxunk from $ xxunk after xxmaj thursday s opinion poll , but quickly gave up most of those gains and sank to $ xxunk .,xxbos xxup u.s. xxmaj senate were dealt another blow in their effort to repeal xxmaj obamacare on xxmaj friday when the keeper of the xxmaj senate ’s rules said certain provisions in their healthcare bill , such as defunding xxmaj planned xxmaj parenthood , could not be included . xxmaj the xxmaj senate parliamentarian determined some provisions in the xxmaj better xxmaj care xxmaj reconciliation xxmaj act violate the xxmaj byrd xxmaj rule that requires backers to be able to muster 60 votes , according to a memo posted on the xxmaj senate xxmaj committee on the xxmaj budget website . xxmaj republicans , who control the xxmaj senate with a slim 52-seat majority , are unlikely to be able to round up that many votes for key provisions in the bill to repeal former xxmaj president xxmaj barack xxmaj obama ’s xxmaj affordable xxmaj care xxmaj act known as xxmaj obamacare . xxmaj affected would be the provision to defund xxmaj planned xxmaj parenthood , two provisions to prevent certain tax credits from being used to purchase health insurance that covers abortion , and a provision stating that beginning in 2020 states no longer have to cover essential health benefits in their xxmaj medicaid alternative benefit plans . xxmaj some provisions were not subject to the xxmaj byrd xxmaj rule , according to the parliamentarian , including a provision allowing states the option to impose work requirements on xxmaj medicaid enrollees who are not disabled , elderly or pregnant , and a proposal to repeal cost - sharing subsidies . xxmaj other provisions were still under review , including a proposal to allow insurers to charge older xxmaj americans more than younger people , a provision to allow small businesses to establish “ association health plans ” that could be sold across state lines and the option for states to receive xxmaj medicaid “ block grant ” lump sums instead of per capita cap payments . xxmaj senate xxmaj majority xxmaj leader xxmaj mitch mcconnell is seeking to use procedural rules that would allow xxmaj republicans to pass a healthcare bill with a simple majority in the .,xxbos xxmaj the majority of the country doesn t want xxmaj donald xxmaj trump as our president . a - list celebrities and even marching bands don t want to perform at his inauguration . xxmaj and now , his former campaign manager and newest counselor xxmaj kellyanne xxmaj conway is finding out that private schools in the xxup d.c. area don t want her kids either . xxmaj conway said on xxmaj wednesday that she is more amused than worried over the fact that none of the top notch schools in xxmaj washington want to accept her children . i would not characterize myself as worried so much as amused by the silence and xxunk on the other end of the phone when friends and allies have made preliminary inquiries on my behalf , xxmaj conway told the xxmaj new xxmaj york xxmaj post . xxmaj conway then pointed out that many of these schools tout diversity in their xxunk . xxmaj for some , there is comfort in xxunk , she noted . xxmaj no wonder xxmaj trump likes her so much . xxmaj if i were an admissions counselor i d shy away from this too , but i digress . xxmaj nobody with any sense wants to be associated with xxmaj trump or his transition team in any way , shape , or form . xxmaj conway is known as a talented spin doctor who now spends her days trying to explain why the horrible things that come out of xxmaj trump s mouth ( or xxmaj twitter page ) couldn t possibly be as abhorrent as they seem on the surface . xxmaj conway said she has been shocked by the flood of people who have offered to help her and her family with their move to xxup d.c. , but top schools apparently aren t so eager . xxmaj according to the xxmaj post , a source close to xxmaj conway said that she is desperate and is asking everyone with connections to xxup d.c. schools for help . xxmaj whether or nor real estate agents in xxmaj washington will want to work with her remains to be seen , as when asked about the matter she simply replied : xxmaj first things first . xxmaj featured image via xxmaj drew xxmaj angerer / xxmaj getty xxmaj images,xxbos ropean capitals expect xxmaj british xxmaj prime xxmaj minister xxmaj theresa xxmaj may to try to break a deadlock in xxmaj brexit talks over the coming days by signaling a readiness to pay the xxup eu to stay in the single market for a time after it leaves the bloc . xxmaj senior officials dealing with xxmaj brexit in xxmaj brussels , xxmaj berlin and other capitals said they had not received any concrete overtures from xxmaj may ahead of a speech in xxmaj florence , xxmaj italy , on xxmaj friday , at which she is expected to flesh out her vision of xxmaj britain s future relationship with the xxmaj european xxmaj union . xxmaj and they played down a report in the xxmaj financial xxmaj times that her xxup eu adviser , xxmaj oliver xxmaj robbins , had informed xxmaj german xxmaj chancellor xxmaj angela xxmaj merkel and other leaders that xxmaj may could make an offer of 20 billion euros to cover a post - xxmaj brexit transition period . xxmaj we have not been informed in advance about any concrete negotiation offers from the xxmaj british government , a xxmaj german government spokesman said . xxmaj but the officials , speaking on condition of anonymity , said they had received signals from xxmaj london that xxmaj may would try to break a months - long impasse that has raised fears on either side of the xxmaj channel that xxmaj britain could exit the bloc in 2019 without a deal on its future xxup eu ties . xxmaj these officials said they expected xxmaj may to signal soon that she would like to keep xxmaj britain in the single market for two to three years and was prepared to pay for the access . xxmaj however , they were unsure whether it would come in the xxmaj florence speech or later possibly during new xxmaj brexit negotiations next xxmaj monday , in early xxmaj october when she addresses her xxmaj conservative xxmaj party conference or at upcoming xxup eu summits in the xxmaj estonian capital xxmaj tallinn or in xxmaj brussels . xxmaj staying for three years in the customs union and single market would mean paying for it and xxmaj britain realizes that . xxmaj the acceptance of payments during that period would be a very big thing , said one xxup eu official close to the negotiations . xxmaj he was among more than half a dozen people involved with the issue in continental xxmaj europe who spoke to xxmaj reuters on xxmaj wednesday . xxmaj other officials were cautious , however , expressing concern that xxmaj britain was conflating two separate issues : the cost of continued market access after xxmaj brexit and the bill xxmaj london first needs to pay to settle its existing financial commitments . xxmaj if everything in the financial settlement is not covered then it will be difficult to move forward , said one official in xxmaj berlin , referring to a delicate moment in the talks . xxmaj three months into negotiations on the terms of xxmaj britain s departure from the xxup eu , the two sides are struggling to resolve the issues xxmaj brussels says must be addressed before talks on a future trading relationship can begin . xxmaj these include expatriate citizens rights , the xxmaj irish border and the financial bill tied to xxmaj britain s departure . xxmaj the xxup eu executive has estimated that xxmaj london may owe it around 60 billion euros due to commitments made during xxmaj british membership . xxmaj with the clock ticking down to the xxmaj march 2019 exit date , xxmaj britain is keen to start talks on its future trade relationship with the bloc to remove the cloud of uncertainty for companies that do business between xxmaj britain and the rest of the xxup eu . xxmaj without such certainty , companies in xxmaj britain may choose to move their operations to an xxup eu state to enjoy access to its single market of 440 million people . xxmaj some have already announced such plans . xxmaj talks on the future relationship were initially expected to start in xxmaj october . xxmaj but the xxup eu s chief negotiator , xxmaj frenchman xxmaj michel xxmaj barnier , has said that looks unrealistic so far . xxmaj he will meet his xxmaj british counterpart again on xxmaj monday in xxmaj brussels . xxmaj european officials sent conflicting signals on xxmaj wednesday about whether an acknowledgement of xxmaj britain s financial obligations during a post - xxmaj brexit transition period might be enough to break the logjam and open the door to deeper talks . xxmaj one senior official in a government broadly sympathetic to xxmaj britain said any offer of payment from xxmaj may could be positive and that other xxup eu leaders understood that she might seek to mix comments on exit and transition payments as a way to distract pro - xxmaj brexit voters at home away from concessions she might make . xxmaj the sense of reality has not yet arrived , a third senior xxup eu official said . xxmaj if i were xxmaj mrs xxmaj may i would make now a very , very clear offer , i would show my readiness . i m sure xxmaj may will give a nice speech in xxmaj florence , a second xxmaj german official added . xxmaj but what really counts is what the xxmaj british put on the table in xxmaj brussels on xxmaj monday .,xxbos xxup language xxup alert : xxmaj welfare xxmaj queen : xxmaj get out of here , b*tch . xxmaj f*ck the government . xxmaj f*ck xxmaj trump . i m gon na rape that sh*t sitting on my a$$ xxmaj guess what ? xxmaj this b*tch is doing better than you , b*tch . xxmaj you re on your feet all day b*tch . xxmaj all day xxmaj get the f*ck out of here . xxmaj you go and work . i ll sit on my a$$ while you go and work . xxup this xxup woman xxup should xxup be xxup tossed xxup in xxup jail xxmaj the hardworking xxmaj american taxpayers are supporting this horrible woman . xxmaj if xxmaj trump does anything at all , he should crack down on the freebies given to people like this . a single woman can make more money by just sitting around han she can if she works ! xxmaj there s something wrong with the system and it needs to be fixed xxunk government has incentivized having children because these single mothers get more government money per child . xxmaj we ve looked at the state of xxmaj new xxmaj york and here s what we found : xxup financial xxup help xxup for xxup single xxup mothers xxup in xxup ny xxup state : xxup ny xxup family xxup assistance xxup cash xxup payment xxup of $ xxunk xxup per xxup xxunk xxup stamps xxup up xxup to $ 1200 a xxup month xxup depending xxup on xxup number xxup in xxup xxunk xxup and xxup child xxup health xxup xxunk xxup another xxup food xxup xxunk xxup and xxup xxunk xxup food xxup care xxup program xxup provides xxup meals xxup for xxup kids xxup in xxup xxunk xxup child xxup xxunk xxup free xxup or xxup low - xxup cost xxup xxunk xxup pre - k xxup xxunk 8 xxup xxunk xxup insurance xxup for 26 xxup xxunk xxup assistance xxup up xxup to $ xxunk about covers it most states provide these freebies . xxmaj is it any wonder people are cradle to grave on assistance ? xxmaj the government has made this a crutch but at whose expense ? xxmaj if you guessed the taxpayers , you d be right ! xxmaj the culture surrounding these freebies makes people feel entitled to them . xxmaj why not ? xxmaj they don t even think about you or your sacrifices it s a sick dependency that needs to end . xxmaj welfare reform xxup now !\n",
              "y: CategoryList\n",
              "0,0,1,0,1\n",
              "Path: /content/drive/My Drive/Colab Notebooks/Fake News Detection;\n",
              "\n",
              "Test: None, model=SequentialRNN(\n",
              "  (0): MultiBatchEncoder(\n",
              "    (module): AWD_LSTM(\n",
              "      (encoder): Embedding(56680, 400, padding_idx=1)\n",
              "      (encoder_dp): EmbeddingDropout(\n",
              "        (emb): Embedding(56680, 400, padding_idx=1)\n",
              "      )\n",
              "      (rnns): ModuleList(\n",
              "        (0): WeightDropout(\n",
              "          (module): LSTM(400, 1152, batch_first=True)\n",
              "        )\n",
              "        (1): WeightDropout(\n",
              "          (module): LSTM(1152, 1152, batch_first=True)\n",
              "        )\n",
              "        (2): WeightDropout(\n",
              "          (module): LSTM(1152, 400, batch_first=True)\n",
              "        )\n",
              "      )\n",
              "      (input_dp): RNNDropout()\n",
              "      (hidden_dps): ModuleList(\n",
              "        (0): RNNDropout()\n",
              "        (1): RNNDropout()\n",
              "        (2): RNNDropout()\n",
              "      )\n",
              "    )\n",
              "  )\n",
              "  (1): PoolingLinearClassifier(\n",
              "    (layers): Sequential(\n",
              "      (0): BatchNorm1d(1200, eps=1e-05, momentum=0.1, affine=True, track_running_stats=True)\n",
              "      (1): Dropout(p=0.2, inplace=False)\n",
              "      (2): Linear(in_features=1200, out_features=50, bias=True)\n",
              "      (3): ReLU(inplace=True)\n",
              "      (4): BatchNorm1d(50, eps=1e-05, momentum=0.1, affine=True, track_running_stats=True)\n",
              "      (5): Dropout(p=0.1, inplace=False)\n",
              "      (6): Linear(in_features=50, out_features=2, bias=True)\n",
              "    )\n",
              "  )\n",
              "), opt_func=functools.partial(<class 'torch.optim.adam.Adam'>, betas=(0.9, 0.99)), loss_func=FlattenedLoss of CrossEntropyLoss(), metrics=[<function error_rate at 0x7f8feb8e5bf8>], true_wd=True, bn_wd=True, wd=0.01, train_bn=True, path=PosixPath('/content/drive/My Drive/Colab Notebooks/Fake News Detection'), model_dir='models', callback_fns=[functools.partial(<class 'fastai.basic_train.Recorder'>, add_time=True, silent=False)], callbacks=[...], layer_groups=[Sequential(\n",
              "  (0): Embedding(56680, 400, padding_idx=1)\n",
              "  (1): EmbeddingDropout(\n",
              "    (emb): Embedding(56680, 400, padding_idx=1)\n",
              "  )\n",
              "), Sequential(\n",
              "  (0): WeightDropout(\n",
              "    (module): LSTM(400, 1152, batch_first=True)\n",
              "  )\n",
              "  (1): RNNDropout()\n",
              "), Sequential(\n",
              "  (0): WeightDropout(\n",
              "    (module): LSTM(1152, 1152, batch_first=True)\n",
              "  )\n",
              "  (1): RNNDropout()\n",
              "), Sequential(\n",
              "  (0): WeightDropout(\n",
              "    (module): LSTM(1152, 400, batch_first=True)\n",
              "  )\n",
              "  (1): RNNDropout()\n",
              "), Sequential(\n",
              "  (0): PoolingLinearClassifier(\n",
              "    (layers): Sequential(\n",
              "      (0): BatchNorm1d(1200, eps=1e-05, momentum=0.1, affine=True, track_running_stats=True)\n",
              "      (1): Dropout(p=0.2, inplace=False)\n",
              "      (2): Linear(in_features=1200, out_features=50, bias=True)\n",
              "      (3): ReLU(inplace=True)\n",
              "      (4): BatchNorm1d(50, eps=1e-05, momentum=0.1, affine=True, track_running_stats=True)\n",
              "      (5): Dropout(p=0.1, inplace=False)\n",
              "      (6): Linear(in_features=50, out_features=2, bias=True)\n",
              "    )\n",
              "  )\n",
              ")], add_time=True, silent=False)\n",
              "alpha: 2.0\n",
              "beta: 1.0], layer_groups=[Sequential(\n",
              "  (0): Embedding(56680, 400, padding_idx=1)\n",
              "  (1): EmbeddingDropout(\n",
              "    (emb): Embedding(56680, 400, padding_idx=1)\n",
              "  )\n",
              "), Sequential(\n",
              "  (0): WeightDropout(\n",
              "    (module): LSTM(400, 1152, batch_first=True)\n",
              "  )\n",
              "  (1): RNNDropout()\n",
              "), Sequential(\n",
              "  (0): WeightDropout(\n",
              "    (module): LSTM(1152, 1152, batch_first=True)\n",
              "  )\n",
              "  (1): RNNDropout()\n",
              "), Sequential(\n",
              "  (0): WeightDropout(\n",
              "    (module): LSTM(1152, 400, batch_first=True)\n",
              "  )\n",
              "  (1): RNNDropout()\n",
              "), Sequential(\n",
              "  (0): PoolingLinearClassifier(\n",
              "    (layers): Sequential(\n",
              "      (0): BatchNorm1d(1200, eps=1e-05, momentum=0.1, affine=True, track_running_stats=True)\n",
              "      (1): Dropout(p=0.2, inplace=False)\n",
              "      (2): Linear(in_features=1200, out_features=50, bias=True)\n",
              "      (3): ReLU(inplace=True)\n",
              "      (4): BatchNorm1d(50, eps=1e-05, momentum=0.1, affine=True, track_running_stats=True)\n",
              "      (5): Dropout(p=0.1, inplace=False)\n",
              "      (6): Linear(in_features=50, out_features=2, bias=True)\n",
              "    )\n",
              "  )\n",
              ")], add_time=True, silent=False)"
            ]
          },
          "metadata": {
            "tags": []
          },
          "execution_count": 185
        }
      ]
    },
    {
      "cell_type": "code",
      "metadata": {
        "id": "d9JxWTrkI6j6",
        "colab_type": "code",
        "colab": {
          "base_uri": "https://localhost:8080/",
          "height": 17
        },
        "outputId": "5a322d7b-1caa-4a20-fbcd-53878016d2fb"
      },
      "source": [
        "interp = ClassificationInterpretation.from_learner(learn)"
      ],
      "execution_count": 186,
      "outputs": [
        {
          "output_type": "display_data",
          "data": {
            "text/html": [
              ""
            ],
            "text/plain": [
              "<IPython.core.display.HTML object>"
            ]
          },
          "metadata": {
            "tags": []
          }
        }
      ]
    },
    {
      "cell_type": "code",
      "metadata": {
        "id": "rYZAbRmVI_P6",
        "colab_type": "code",
        "colab": {
          "base_uri": "https://localhost:8080/",
          "height": 311
        },
        "outputId": "db1d4759-e14e-4a1d-eb49-429a903fab75"
      },
      "source": [
        "# build a confusion matrix to see the predicted results on the validation set\n",
        "interp.plot_confusion_matrix()"
      ],
      "execution_count": 187,
      "outputs": [
        {
          "output_type": "display_data",
          "data": {
            "image/png": "[encoded data removed]",
            "text/plain": [
              "<Figure size 432x288 with 1 Axes>"
            ]
          },
          "metadata": {
            "tags": [],
            "needs_background": "light"
          }
        }
      ]
    },
    {
      "cell_type": "markdown",
      "metadata": {
        "id": "R-fdYpH_5FdQ",
        "colab_type": "text"
      },
      "source": [
        "## Putting the model in production"
      ]
    },
    {
      "cell_type": "code",
      "metadata": {
        "id": "NBNqBT4K5I_n",
        "colab_type": "code",
        "colab": {}
      },
      "source": [
        "learn.export()"
      ],
      "execution_count": 188,
      "outputs": []
    },
    {
      "cell_type": "code",
      "metadata": {
        "id": "ygvHDtFE5WJM",
        "colab_type": "code",
        "colab": {}
      },
      "source": [
        "# learn = load_learner(path)"
      ],
      "execution_count": 193,
      "outputs": []
    },
    {
      "cell_type": "code",
      "metadata": {
        "id": "Sqj2Jj0o5YFF",
        "colab_type": "code",
        "colab": {}
      },
      "source": [
        "# we predict the image label \n",
        "# input = \"Professor Zimdars' original list and criteria, with updates and addenda.\"\n",
        "# pred_class,pred_idx,outputs = learn.predict(input)\n",
        "# print(\"Predicted Label for the given image: \", pred_class.obj) # print the predicted label"
      ],
      "execution_count": 195,
      "outputs": []
    },
    {
      "cell_type": "code",
      "metadata": {
        "id": "E0IU_Drryja5",
        "colab_type": "code",
        "colab": {}
      },
      "source": [
        ""
      ],
      "execution_count": null,
      "outputs": []
    }
  ]
}